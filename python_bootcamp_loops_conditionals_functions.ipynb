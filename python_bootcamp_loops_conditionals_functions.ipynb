{
 "cells": [
  {
   "cell_type": "markdown",
   "metadata": {},
   "source": [
    "# Part 5 Loops, Conditionals and Functions"
   ]
  },
  {
   "cell_type": "markdown",
   "metadata": {},
   "source": [
    "In this section we look at ways to control the flow of your code.  "
   ]
  },
  {
   "cell_type": "markdown",
   "metadata": {},
   "source": [
    "### For Loops\n",
    "    For loops are used when you have a bit of code you want to repeat n times.  "
   ]
  },
  {
   "cell_type": "code",
   "execution_count": null,
   "metadata": {
    "collapsed": false
   },
   "outputs": [],
   "source": [
    "# For each item in my list, do something...\n",
    "my_list = ['Hear', 'See', 'Speak']\n",
    "for n in my_list:\n",
    "    print (n + ' no evil')"
   ]
  },
  {
   "cell_type": "code",
   "execution_count": null,
   "metadata": {
    "collapsed": false
   },
   "outputs": [],
   "source": [
    "# This can also be done by specifying the index and iterating through \n",
    "# specifying a range of index values can easily be obtained by using range, e.g., \n",
    "range(0,10)"
   ]
  },
  {
   "cell_type": "code",
   "execution_count": null,
   "metadata": {
    "collapsed": false
   },
   "outputs": [],
   "source": [
    "# Here is an example loop:\n",
    "for n in range(0, len(my_list)):\n",
    "    print (my_list[n] + ' no evil')"
   ]
  },
  {
   "cell_type": "markdown",
   "metadata": {},
   "source": [
    "####Exercise 1:  We want to add more names and numbers to our phone book.  Given the list of tuples containing names and numbers called new_numbers, make a for loop that adds them into the dictionary defined as phone_book."
   ]
  },
  {
   "cell_type": "code",
   "execution_count": null,
   "metadata": {
    "collapsed": false
   },
   "outputs": [],
   "source": [
    "phone_book =  {'Brite, Rainbow': '555-555-1234',\n",
    "               'Goof, Goofy': '555-555-1238',\n",
    "               'Minney, Mouse': '555-555-1237',\n",
    "               'Mouse, Mickey': '555-555-1236',\n",
    "               'Shortcake, Strawberry': '555-555-1235'}\n",
    "\n",
    "new_numbers = [('Man, He', '555-555-2345'),\n",
    "               ('Ra, She', '555-555-2346'),\n",
    "               ('Boney, Skeletor', '555-555-2347'),\n",
    "               ('WhatIsThisThing, Orko', '555-555-2348')]\n",
    "# Hint:  You should loop through all the tuples in new_numbers, and in your loop \n",
    "# Update your phone_book"
   ]
  },
  {
   "cell_type": "code",
   "execution_count": null,
   "metadata": {
    "collapsed": true
   },
   "outputs": [],
   "source": []
  },
  {
   "cell_type": "markdown",
   "metadata": {},
   "source": [
    "###If Statements\n",
    "    An if statement allows control of the flow of your program based on if a statement is true or false. Here are the conditionals you can use:\n",
    "    \n",
    "    Less than <\n",
    "    Greater than >\n",
    "    Less than or equal to =<\n",
    "    Greater than or equal to =>\n",
    "    Equals ==\n",
    "    Not Equals !=\n",
    "    \n",
    "    The if construct can consist of just the if, if and else, or if, elif, else."
   ]
  },
  {
   "cell_type": "code",
   "execution_count": null,
   "metadata": {
    "collapsed": false
   },
   "outputs": [],
   "source": [
    "# If Examples...\n",
    "Goofy='has big feet'\n",
    "\n",
    "# Just the if\n",
    "if Goofy == 'has big feet':   \n",
    "    print ('Yeah he does!')\n",
    "\n",
    "# The if and an else\n",
    "if Goofy == 'has big feet':   \n",
    "    print ('Yeah he does!')\n",
    "else:\n",
    "    print ('Huh?')\n",
    "\n",
    "# The if, elif and else \n",
    "if Goofy == 'has big feet':   \n",
    "    print ('Yeah he does!')\n",
    "elif Goofy == 'has tiny feet':\n",
    "    print ('No, I think you are mistaken')\n",
    "else:\n",
    "    print ('Huh?')"
   ]
  },
  {
   "cell_type": "markdown",
   "metadata": {},
   "source": [
    "####Exercise 2:  In computing, the modulo finds the remainder after division of one number by another.  If the modulo is 0 it means that dividing one number by the other produces a whole number.  For example, 4/2 = 2 with no remainder has a modulo of 0.  The modulo, represented by % in python, would be 4%2 = 0.  Let's loop through a range of numbers from 0 to 100.  If the number modulo 2 = 0, print 'Crackle', else print 'Pop'."
   ]
  },
  {
   "cell_type": "code",
   "execution_count": null,
   "metadata": {
    "collapsed": false
   },
   "outputs": [],
   "source": [
    "# 1. Define a range of numbers\n",
    "# 2. Create a loop that contains conditional if statements"
   ]
  },
  {
   "cell_type": "markdown",
   "metadata": {},
   "source": [
    "### While Loops\n",
    "    While loops, like for loops, allow repeated execution of code, but is based on a boolean condition."
   ]
  },
  {
   "cell_type": "code",
   "execution_count": null,
   "metadata": {
    "collapsed": false
   },
   "outputs": [],
   "source": [
    "# Example list of words\n",
    "list_of_words = ['I', 'am', 'a', 'python', 'rockstar', '!']\n",
    "# Example while loop\n",
    "i = 0\n",
    "while i < len(list_of_words):\n",
    "    print list_of_words[i]\n",
    "    i = i + 1 "
   ]
  },
  {
   "cell_type": "markdown",
   "metadata": {},
   "source": [
    "####Exercise 3:  Using a while loop, remove the following names from phone_book:  'Brite, Rainbow', 'Shortcake, Strawberry' and 'Man, He'.  Here are the steps involved:\n",
    "1. Make a list of the values you want to remove\n",
    "2. Think of a condition statement for your while loop\n",
    "3. Remove names from phone_book dictionary"
   ]
  },
  {
   "cell_type": "markdown",
   "metadata": {},
   "source": [
    "###Functions\n",
    "    A function is a section of a computer program that is stored only once but can be called when needed throughout the code.  \n",
    "\n",
    "    In python a function is defined with def, and looks like this:\n",
    "\n",
    "        def some_function_name (variable_passed_in_1, variable_passed_in_2...):\n",
    "            ...\n",
    "            return (variable_passed_out_1, variable_passed_out_2...)\n",
    "    \n",
    "    Variables within a function (local variables) are only defined inside of it, unless they are explicitly passed into it.  Likewise, variables defined within the function are not known outside of it unless it is explicitly passed back out to the main part of the code (global variables). No variables need to be passed in or out, and return does not need to be specified.  \n",
    "    You call a function like this:\n",
    "    some_function_name(variable_passed_in_1, variable_passed_in_2...)"
   ]
  },
  {
   "cell_type": "code",
   "execution_count": null,
   "metadata": {
    "collapsed": false
   },
   "outputs": [],
   "source": [
    "# Example function:\n",
    "def print_yippie():\n",
    "    print ('yippie!')\n",
    "#Run the function:\n",
    "print_yippie()"
   ]
  },
  {
   "cell_type": "markdown",
   "metadata": {},
   "source": [
    "Now let's pass in a variable, calculate something and spit something else back out.  Here is an example:"
   ]
  },
  {
   "cell_type": "code",
   "execution_count": null,
   "metadata": {
    "collapsed": false
   },
   "outputs": [],
   "source": [
    "greeting = 'Greetings'\n",
    "person = 'Earthling'\n",
    "def print_greeting_to_someone(greeting, person):\n",
    "    my_greeting = greeting + ', ' + person + '!'\n",
    "    return my_greeting"
   ]
  },
  {
   "cell_type": "code",
   "execution_count": null,
   "metadata": {
    "collapsed": false
   },
   "outputs": [],
   "source": [
    "# Now call the function to get the greeting.\n",
    "my_greeting = print_greeting_to_someone(greeting, person)\n",
    "print my_greeting"
   ]
  },
  {
   "cell_type": "markdown",
   "metadata": {},
   "source": [
    "###Why use functions?  \n",
    "\n",
    "This code could have been written a lot more simply without it.  Here are some reason you should write functionally:\n",
    "\n",
    "(1) *It helps you write declaratively.*  \n",
    "\n",
    "For example, say you wanted to add more names to your dictionary using another list of tuples, but then delete others, given a list of names.  You can develop a program that looks like this:\n",
    "\n",
    "    add_names_to_phonebook(phone_book,names_and_numbers_list)\n",
    "    \n",
    "    remove_names_from_phonebook(phone_book, names_to_remove)\n",
    "    \n",
    "Where both of these lines refer to a function that does exactly what it says it is going to do. \n",
    "\n",
    "(2) *Functions don't rely on nor does it change data outside of the function.*  \n",
    "\n",
    "This helps prevent 'side effects' -- i.e., double naming of variables, changing data you don't want changed, etc."
   ]
  },
  {
   "cell_type": "markdown",
   "metadata": {
    "collapsed": true
   },
   "source": [
    "####Exercise 4.  Write a function that prints every 2nd number from 0 to 100.  *Hint* -- This function could contain a loop and a conditional statement! "
   ]
  },
  {
   "cell_type": "code",
   "execution_count": null,
   "metadata": {
    "collapsed": false
   },
   "outputs": [],
   "source": []
  }
 ],
 "metadata": {
  "kernelspec": {
   "display_name": "Python 2",
   "language": "python",
   "name": "python2"
  },
  "language_info": {
   "codemirror_mode": {
    "name": "ipython",
    "version": 2
   },
   "file_extension": ".py",
   "mimetype": "text/x-python",
   "name": "python",
   "nbconvert_exporter": "python",
   "pygments_lexer": "ipython2",
   "version": "2.7.8"
  }
 },
 "nbformat": 4,
 "nbformat_minor": 0
}
