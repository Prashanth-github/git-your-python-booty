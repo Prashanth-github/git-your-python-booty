{
 "cells": [
  {
   "cell_type": "markdown",
   "metadata": {},
   "source": [
    "# Part 3 Data Types:  Show me the data!"
   ]
  },
  {
   "cell_type": "markdown",
   "metadata": {},
   "source": [
    "According to Google, a **data type** is 'a particular kind of data item, as defined by the values it can take, the programming language used, or the operations that can be performed on it.'"
   ]
  },
  {
   "cell_type": "markdown",
   "metadata": {},
   "source": [
    "###1. Strings \n",
    "    An ordered sequence of characters.  In python, it is defined around quotes"
   ]
  },
  {
   "cell_type": "code",
   "execution_count": 2,
   "metadata": {
    "collapsed": false
   },
   "outputs": [],
   "source": [
    "a = 'abcdefghijk'"
   ]
  },
  {
   "cell_type": "markdown",
   "metadata": {},
   "source": [
    "You can find out how many letters are in this string by typing len(a).  Try it out in the next cell."
   ]
  },
  {
   "cell_type": "code",
   "execution_count": null,
   "metadata": {
    "collapsed": false
   },
   "outputs": [],
   "source": []
  },
  {
   "cell_type": "markdown",
   "metadata": {},
   "source": [
    "You can see what sorts of methods are associated with a string by typing 'a.' and then pressing tab.  Give it a try!"
   ]
  },
  {
   "cell_type": "code",
   "execution_count": 4,
   "metadata": {
    "collapsed": false
   },
   "outputs": [],
   "source": []
  },
  {
   "cell_type": "markdown",
   "metadata": {},
   "source": [
    "You can find out a little about the method by typing 'a.method?'.  For example, you might want to know more about the capitalize method.  You do this by typing a.capitalize?.  Try it out. Try some different methods."
   ]
  },
  {
   "cell_type": "code",
   "execution_count": null,
   "metadata": {
    "collapsed": false
   },
   "outputs": [],
   "source": []
  },
  {
   "cell_type": "markdown",
   "metadata": {},
   "source": [
    "You can execute that function by typing 'a.capitalize()'.  Note the parentheses.  If parens are not specified, python will tell you that it is a function (so use parentheses!).  Try executing some of the methods below. "
   ]
  },
  {
   "cell_type": "code",
   "execution_count": null,
   "metadata": {
    "collapsed": false
   },
   "outputs": [],
   "source": []
  },
  {
   "cell_type": "markdown",
   "metadata": {},
   "source": [
    "Each letter, number or symbol in a string is indexed, which defines the order of the elements in the string, starting at 0.  For example, a[0] = 'a'.  How would you get the 'f' in the string defined above?"
   ]
  },
  {
   "cell_type": "code",
   "execution_count": null,
   "metadata": {
    "collapsed": false
   },
   "outputs": [],
   "source": []
  },
  {
   "cell_type": "markdown",
   "metadata": {},
   "source": [
    "You can also extract part of the string by specifying their indices.  For example, if I want the contents that are in indices 1-6 of a I would type a[1:6].  Try it out.  "
   ]
  },
  {
   "cell_type": "code",
   "execution_count": null,
   "metadata": {
    "collapsed": false
   },
   "outputs": [],
   "source": []
  },
  {
   "cell_type": "markdown",
   "metadata": {},
   "source": [
    "From the string above, how would you get 'efg'?"
   ]
  },
  {
   "cell_type": "code",
   "execution_count": null,
   "metadata": {
    "collapsed": false
   },
   "outputs": [],
   "source": []
  },
  {
   "cell_type": "markdown",
   "metadata": {},
   "source": [
    "You can reverse your search by using '-'.  \n",
    "\n",
    "You can get the last element of your string by typing a[-1].  How do you get the second to last?"
   ]
  },
  {
   "cell_type": "code",
   "execution_count": null,
   "metadata": {
    "collapsed": true
   },
   "outputs": [],
   "source": []
  },
  {
   "cell_type": "markdown",
   "metadata": {},
   "source": [
    "You can get all letters EXCEPT the last 2 by typing a[:-2].  How do you get all but the last 4 letters? "
   ]
  },
  {
   "cell_type": "code",
   "execution_count": null,
   "metadata": {
    "collapsed": true
   },
   "outputs": [],
   "source": []
  },
  {
   "cell_type": "markdown",
   "metadata": {},
   "source": [
    "You can get print a string backwards by typing a[::-1].  How do you print everyother letter in a string backwards?"
   ]
  },
  {
   "cell_type": "code",
   "execution_count": null,
   "metadata": {
    "collapsed": true
   },
   "outputs": [],
   "source": []
  },
  {
   "cell_type": "markdown",
   "metadata": {},
   "source": [
    "You can add two strings together.  For example, if you have b = 'bye'. Below, define a string named b, then define c, which adds b to a. You cannot, however subtract them."
   ]
  },
  {
   "cell_type": "code",
   "execution_count": 9,
   "metadata": {
    "collapsed": false
   },
   "outputs": [
    {
     "data": {
      "text/plain": [
       "'abcdefghijklmnopqrstuvwxyz'"
      ]
     },
     "execution_count": 9,
     "metadata": {},
     "output_type": "execute_result"
    }
   ],
   "source": [
    "b = 'lmnopqrstuvwxyz'\n",
    "c = a + b\n",
    "c"
   ]
  },
  {
   "cell_type": "markdown",
   "metadata": {},
   "source": [
    "###2. Integers and Floats \n",
    "    An integer is a whole number that is not a fraction.  A float is a number that include both integers and fractions.  In python you can specify floats with decimal points.  If a decimal point is not specified, python will think it is an integer.  Integers can also be defined as int(), and floats with float().  Examples below:"
   ]
  },
  {
   "cell_type": "code",
   "execution_count": 21,
   "metadata": {
    "collapsed": true
   },
   "outputs": [],
   "source": [
    "a = 1  # Integer\n",
    "b = 10.2531  # Decimal\n",
    "c = int(1) \n",
    "d = float(1)"
   ]
  },
  {
   "cell_type": "markdown",
   "metadata": {},
   "source": [
    "You can see what data type something is by using the type method.  For example, type(a). You can verify the data types of a through d below."
   ]
  },
  {
   "cell_type": "code",
   "execution_count": null,
   "metadata": {
    "collapsed": false
   },
   "outputs": [],
   "source": []
  },
  {
   "cell_type": "markdown",
   "metadata": {},
   "source": [
    "###3. Boolean\n",
    "    A binary variable having the value of either True or False.  In python you can assign a boolean by using either True or False (note there are no quotes), or by explicitly defining it as a bool:"
   ]
  },
  {
   "cell_type": "code",
   "execution_count": 25,
   "metadata": {
    "collapsed": true
   },
   "outputs": [],
   "source": [
    "I_heart_ice_cream = True\n",
    "I_heart_anchovies = False\n",
    "I_like_bools = bool(True)"
   ]
  },
  {
   "cell_type": "code",
   "execution_count": null,
   "metadata": {
    "collapsed": false
   },
   "outputs": [],
   "source": []
  },
  {
   "cell_type": "markdown",
   "metadata": {},
   "source": [
    "###3. Lists \n",
    "    A list is a sequence of values, where the same value may occur more than once.  I like to think of a list as a real list you would use in every day life, like a grocery list.  Each item in the list is called an element or item, and in python a list is represented by square brackets []. Here is an example of a list:"
   ]
  },
  {
   "cell_type": "code",
   "execution_count": 10,
   "metadata": {
    "collapsed": true
   },
   "outputs": [],
   "source": [
    "grocery_list = ['oranges', 'milk', 'cereal', 'coffee']"
   ]
  },
  {
   "cell_type": "markdown",
   "metadata": {},
   "source": [
    "You can see the methods associated with lists by typing the list name and a period then tabbing (just like we did with strings). Also the question mark thing works too.  Try below."
   ]
  },
  {
   "cell_type": "code",
   "execution_count": 14,
   "metadata": {
    "collapsed": false
   },
   "outputs": [
    {
     "data": {
      "text/plain": [
       "1"
      ]
     },
     "execution_count": 14,
     "metadata": {},
     "output_type": "execute_result"
    }
   ],
   "source": [
    "grocery_list.count('coffee')"
   ]
  },
  {
   "cell_type": "markdown",
   "metadata": {},
   "source": [
    "You can add items to your list using the append method"
   ]
  },
  {
   "cell_type": "code",
   "execution_count": 16,
   "metadata": {
    "collapsed": false
   },
   "outputs": [],
   "source": [
    "grocery_list.append('tea')\n",
    "grocery_list"
   ]
  },
  {
   "cell_type": "markdown",
   "metadata": {},
   "source": [
    "And you can remove an item using remove.  Try removing tea below."
   ]
  },
  {
   "cell_type": "code",
   "execution_count": 17,
   "metadata": {
    "collapsed": false
   },
   "outputs": [],
   "source": [
    "grocery_list.remove('tea')\n",
    "grocery_list"
   ]
  },
  {
   "cell_type": "markdown",
   "metadata": {},
   "source": [
    "Items in the list are assigned an index, starting at 0, that defines where they are in the list.  Try retrieving the cereal from the list."
   ]
  },
  {
   "cell_type": "code",
   "execution_count": null,
   "metadata": {
    "collapsed": false
   },
   "outputs": [],
   "source": []
  },
  {
   "cell_type": "markdown",
   "metadata": {},
   "source": [
    "You can add lists.  Say someone gave you some extra things to by and they have a second list (friend_list) and you wanted to add it to your list."
   ]
  },
  {
   "cell_type": "code",
   "execution_count": 1,
   "metadata": {
    "collapsed": false
   },
   "outputs": [],
   "source": [
    "friend_list = ['eggs','bacon','ice cream', 'milk']\n",
    "# Now try adding the lists\n"
   ]
  },
  {
   "cell_type": "markdown",
   "metadata": {},
   "source": [
    "You can have lists of any data type or any combination of data types -- a list of strings, integers, floats, or other data types.  You can have a list of lists.  Given your grocery list and your friends, how would you make a list that contains both your list and your friend's?"
   ]
  },
  {
   "cell_type": "markdown",
   "metadata": {},
   "source": [
    "###4. Tuples\n",
    "    Tuples, like lists are also a ordered set of items, but it has the added extra property of not being able to change its values after its creation, making them *immutable*.  Tuples are by definition less flexible than lists -- so why use them?  Tuples come in useful when describing something that doesn't make sense without two or more values.  For example the latitude and longitude of a city.  Without either the latitude or the longitude you would not be able to locate the city.\n",
    "\n",
    "    In python tuples are defined by parentheses (), or by explicitly defining it as tuple().  Below is an example tuple called seattle (drawing off the city location idea).  "
   ]
  },
  {
   "cell_type": "code",
   "execution_count": 18,
   "metadata": {
    "collapsed": true
   },
   "outputs": [],
   "source": [
    "seattle = (47.6097, 122.3331)"
   ]
  },
  {
   "cell_type": "code",
   "execution_count": null,
   "metadata": {
    "collapsed": false
   },
   "outputs": [],
   "source": []
  },
  {
   "cell_type": "markdown",
   "metadata": {},
   "source": [
    "Note that Seattle only has two methods or attributes associated with it.  Now that it is created, you cannot add a value to it, nor can you remove the value."
   ]
  },
  {
   "cell_type": "markdown",
   "metadata": {},
   "source": [
    "###5. Dictionaries\n",
    "    In computer science, an associative array, map, symbol table, or dictionary is an abstract data type composed of a collection of (key, value) pairs, such that each possible key appears just once in the collection (Wiki).  Imagine a phone book where each name is associated with a phone number.  If you have the name, you have the key to the door that will give you the value (the phone number).  Why use a dictionary when you can just put the values in a list of tuples -- for example:\n",
    "    \n",
    "    [('Able, Mary', '555-555-1234'),..., ('Zip, Justin', '555-555-1235')] \n",
    "    \n",
    "    The main reason why a dictionary is used is speed -- in order to get the number for Justin Zip, you would have to read every name in the list until you get to the end of the list.  Imagine a full phone book with millions of names.  It would take a long time to read through all those names in order to get to the Z's.  With a dictionary, you can simply state the key, which has been mapped to its value.  \n",
    "    \n",
    "    In python a dictionary is defined with curly brackets {}, or with dict().  Keys and values are mapped like key:value"
   ]
  },
  {
   "cell_type": "code",
   "execution_count": 39,
   "metadata": {
    "collapsed": true
   },
   "outputs": [],
   "source": [
    "phone_book = {'Brite, Rainbow': '555-555-1234', \n",
    "             'Shortcake, Strawberry': '555-555-1235'}"
   ]
  },
  {
   "cell_type": "markdown",
   "metadata": {},
   "source": [
    "In order to get Strawberry Shortcake's phone number here you would simply type:"
   ]
  },
  {
   "cell_type": "code",
   "execution_count": 40,
   "metadata": {
    "collapsed": false
   },
   "outputs": [
    {
     "data": {
      "text/plain": [
       "'555-555-1235'"
      ]
     },
     "execution_count": 40,
     "metadata": {},
     "output_type": "execute_result"
    }
   ],
   "source": [
    "phone_book['Shortcake, Strawberry']"
   ]
  },
  {
   "cell_type": "markdown",
   "metadata": {},
   "source": [
    "In order to get all the names (the keys) you can use the keys() method:"
   ]
  },
  {
   "cell_type": "code",
   "execution_count": 41,
   "metadata": {
    "collapsed": false
   },
   "outputs": [
    {
     "data": {
      "text/plain": [
       "['Brite, Rainbow', 'Shortcake, Strawberry']"
      ]
     },
     "execution_count": 41,
     "metadata": {},
     "output_type": "execute_result"
    }
   ],
   "source": [
    "phone_book.keys()"
   ]
  },
  {
   "cell_type": "code",
   "execution_count": null,
   "metadata": {
    "collapsed": true
   },
   "outputs": [],
   "source": [
    "You can get all the values by using the values() method:"
   ]
  },
  {
   "cell_type": "code",
   "execution_count": 42,
   "metadata": {
    "collapsed": false
   },
   "outputs": [
    {
     "data": {
      "text/plain": [
       "['555-555-1234', '555-555-1235']"
      ]
     },
     "execution_count": 42,
     "metadata": {},
     "output_type": "execute_result"
    }
   ],
   "source": [
    "phone_book.values()"
   ]
  },
  {
   "cell_type": "markdown",
   "metadata": {},
   "source": [
    "You can add more keys value pairs by using the update method:"
   ]
  },
  {
   "cell_type": "code",
   "execution_count": 43,
   "metadata": {
    "collapsed": false
   },
   "outputs": [
    {
     "data": {
      "text/plain": [
       "{'Brite, Rainbow': '555-555-1234',\n",
       " 'Minney, Mouse': '555-555-1237',\n",
       " 'Mouse, Mickey': '555-555-1236',\n",
       " 'Shortcake, Strawberry': '555-555-1235'}"
      ]
     },
     "execution_count": 43,
     "metadata": {},
     "output_type": "execute_result"
    }
   ],
   "source": [
    "phone_book.update({'Mouse, Mickey': '555-555-1236', 'Minney, Mouse': '555-555-1237'})\n",
    "phone_book"
   ]
  },
  {
   "cell_type": "markdown",
   "metadata": {},
   "source": [
    "Or you can use this method:"
   ]
  },
  {
   "cell_type": "code",
   "execution_count": 44,
   "metadata": {
    "collapsed": false
   },
   "outputs": [
    {
     "data": {
      "text/plain": [
       "{'Brite, Rainbow': '555-555-1234',\n",
       " 'Goof, Goofy': '555-555-1238',\n",
       " 'Minney, Mouse': '555-555-1237',\n",
       " 'Mouse, Mickey': '555-555-1236',\n",
       " 'Shortcake, Strawberry': '555-555-1235'}"
      ]
     },
     "execution_count": 44,
     "metadata": {},
     "output_type": "execute_result"
    }
   ],
   "source": [
    "phone_book['Goof, Goofy'] = '555-555-1238'\n",
    "phone_book"
   ]
  },
  {
   "cell_type": "markdown",
   "metadata": {},
   "source": [
    "And you can remove an item by using the pop method"
   ]
  },
  {
   "cell_type": "code",
   "execution_count": 45,
   "metadata": {
    "collapsed": false
   },
   "outputs": [
    {
     "data": {
      "text/plain": [
       "{'Goof, Goofy': '555-555-1238',\n",
       " 'Minney, Mouse': '555-555-1237',\n",
       " 'Mouse, Mickey': '555-555-1236',\n",
       " 'Shortcake, Strawberry': '555-555-1235'}"
      ]
     },
     "execution_count": 45,
     "metadata": {},
     "output_type": "execute_result"
    }
   ],
   "source": [
    "phone_book.pop('Brite, Rainbow')\n",
    "phone_book"
   ]
  },
  {
   "cell_type": "markdown",
   "metadata": {},
   "source": [
    "You can have a dictionary of dictionaries, a dictionary of lists, or a dictionary of tuples -- the sky is the limit!  Here is an example of a nested dictionary:"
   ]
  },
  {
   "cell_type": "code",
   "execution_count": 47,
   "metadata": {
    "collapsed": false
   },
   "outputs": [
    {
     "data": {
      "text/plain": [
       "{'New York': {'lat': 40.7127, 'lon': 74.0059, 'state': 'New York'},\n",
       " 'Seattle': {'lat': 47.6097, 'lon': 122.3331, 'state': 'Washington'}}"
      ]
     },
     "execution_count": 47,
     "metadata": {},
     "output_type": "execute_result"
    }
   ],
   "source": [
    "cities = {'Seattle': {'lat': 47.6097, \n",
    "                      'lon': 122.3331,\n",
    "                      'state': 'Washington'}, \n",
    "          'New York': {'lat': 40.7127, \n",
    "                       'lon': 74.0059,\n",
    "                       'state': 'New York'}}\n",
    "cities"
   ]
  },
  {
   "cell_type": "markdown",
   "metadata": {},
   "source": [
    "How do you get New York's longitude?"
   ]
  },
  {
   "cell_type": "code",
   "execution_count": null,
   "metadata": {
    "collapsed": false
   },
   "outputs": [],
   "source": []
  },
  {
   "cell_type": "markdown",
   "metadata": {},
   "source": [
    "How would you include Portland, Oregon, located at 45.5200° N, 122.6819° W in cities?"
   ]
  },
  {
   "cell_type": "code",
   "execution_count": null,
   "metadata": {
    "collapsed": true
   },
   "outputs": [],
   "source": []
  },
  {
   "cell_type": "markdown",
   "metadata": {},
   "source": [
    "How would you remove New York and its values?"
   ]
  },
  {
   "cell_type": "code",
   "execution_count": null,
   "metadata": {
    "collapsed": true
   },
   "outputs": [],
   "source": []
  },
  {
   "cell_type": "markdown",
   "metadata": {},
   "source": [
    "### For Loops\n",
    "    For loops are used when you have a bit of code you want to repeat n times.  "
   ]
  },
  {
   "cell_type": "code",
   "execution_count": 24,
   "metadata": {
    "collapsed": false
   },
   "outputs": [
    {
     "name": "stdout",
     "output_type": "stream",
     "text": [
      "Hear no evil\n",
      "See no evil\n",
      "Speak no evil\n"
     ]
    }
   ],
   "source": [
    "# For each item in my list, do something...\n",
    "my_list = ['Hear', 'See', 'Speak']\n",
    "for n in my_list:\n",
    "    print (n + ' no evil')"
   ]
  },
  {
   "cell_type": "code",
   "execution_count": 26,
   "metadata": {
    "collapsed": false
   },
   "outputs": [
    {
     "data": {
      "text/plain": [
       "[0, 1, 2, 3, 4, 5, 6, 7, 8, 9]"
      ]
     },
     "execution_count": 26,
     "metadata": {},
     "output_type": "execute_result"
    }
   ],
   "source": [
    "# This can also be done by specifying the index and iterating through \n",
    "# specifying a range of index values can easily be obtained by using range, e.g., \n",
    "range(0,10)"
   ]
  },
  {
   "cell_type": "code",
   "execution_count": 29,
   "metadata": {
    "collapsed": false
   },
   "outputs": [
    {
     "name": "stdout",
     "output_type": "stream",
     "text": [
      "Hear no evil\n",
      "See no evil\n",
      "Speak no evil\n"
     ]
    }
   ],
   "source": [
    "# Here is an example loop:\n",
    "for n in range(0, len(my_list)):\n",
    "    print (my_list[n] + ' no evil')"
   ]
  },
  {
   "cell_type": "markdown",
   "metadata": {},
   "source": [
    "####Exercise 1:  Given the list of tuples containing names and numbers in the next cell, make a for loop that adds them into the dictionary defined above as phone_book."
   ]
  },
  {
   "cell_type": "code",
   "execution_count": 36,
   "metadata": {
    "collapsed": false
   },
   "outputs": [
    {
     "name": "stdout",
     "output_type": "stream",
     "text": [
      "[('Man, He', '555-555-2345'), ('Ra, She', '555-555-2346'), ('Boney, Skeletor', '555-555-2347'), ('WhatIsThisThing, Orko', '555-555-2348')]\n",
      "{'Minney, Mouse': '555-555-1237', 'Goof, Goofy': '555-555-1238', 'Mouse, Mickey': '555-555-1236', 'Able, Mary': '555-555-1234'}\n"
     ]
    }
   ],
   "source": [
    "new_numbers = [('Man, He', '555-555-2345'),\n",
    "               ('Ra, She', '555-555-2346'),\n",
    "               ('Boney, Skeletor', '555-555-2347'),\n",
    "               ('WhatIsThisThing, Orko', '555-555-2348')]\n",
    "# new_numbers and phone_book are printed here to refresh your memory on the data structures\n",
    "print (new_numbers)\n",
    "print (phone_book)"
   ]
  },
  {
   "cell_type": "code",
   "execution_count": null,
   "metadata": {
    "collapsed": true
   },
   "outputs": [],
   "source": []
  },
  {
   "cell_type": "markdown",
   "metadata": {},
   "source": [
    "###If Statements\n",
    "    An if statement allows control of the flow of your program based on if a statement is true or false. Here are the conditionals you can use:\n",
    "    \n",
    "    Less than <\n",
    "    Greater than >\n",
    "    Less than or equal to =<\n",
    "    Greater than or equal to =>\n",
    "    Equals ==\n",
    "    Not Equals !=\n",
    "    \n",
    "    The if construct can consist of just the if, if and else, or if, elif, else."
   ]
  },
  {
   "cell_type": "code",
   "execution_count": 52,
   "metadata": {
    "collapsed": false
   },
   "outputs": [
    {
     "name": "stdout",
     "output_type": "stream",
     "text": [
      "Yeah he does!\n",
      "Yeah he does!\n",
      "Yeah he does!\n"
     ]
    }
   ],
   "source": [
    "# If Examples...\n",
    "Goofy='has big feet'\n",
    "\n",
    "# Just the if\n",
    "if Goofy == 'has big feet':   \n",
    "    print ('Yeah he does!')\n",
    "\n",
    "# The if and an else\n",
    "if Goofy == 'has big feet':   \n",
    "    print ('Yeah he does!')\n",
    "else:\n",
    "    print ('Huh?')\n",
    "\n",
    "# The if, elif and else \n",
    "if Goofy == 'has big feet':   \n",
    "    print ('Yeah he does!')\n",
    "elif Goofy == 'has tiny feet':\n",
    "    print ('No, I think you are mistaken')\n",
    "else:\n",
    "    print ('Huh?')"
   ]
  },
  {
   "cell_type": "markdown",
   "metadata": {},
   "source": [
    "####Exercise 2:  In computing, the modulo finds the remainder after division of one number by another.  If the modulo is 0 it means that dividing one number by the other produces a whole number.  For example, 4/2 = 2 with no remainder.  The modulo, represented by % in python, would be 4%2 = 0.  Let's loop through a range of numbers from 0 to 10.  If the number modulo 2 = 0, print 'Crackle', else print 'Pop'."
   ]
  },
  {
   "cell_type": "code",
   "execution_count": 59,
   "metadata": {
    "collapsed": false
   },
   "outputs": [],
   "source": [
    "# 1. Define a range of numbers\n",
    "# 2. Create a loop that contains conditional if statements"
   ]
  },
  {
   "cell_type": "markdown",
   "metadata": {},
   "source": [
    "### While Loops\n",
    "    While loops, like for loops, allow repeated execution of code, but is based on a boolean condition."
   ]
  },
  {
   "cell_type": "code",
   "execution_count": 65,
   "metadata": {
    "collapsed": false
   },
   "outputs": [
    {
     "name": "stdout",
     "output_type": "stream",
     "text": [
      "I\n",
      "am\n",
      "a\n",
      "python\n",
      "rockstar\n",
      "!\n"
     ]
    }
   ],
   "source": [
    "# Example list of words\n",
    "list_of_words = ['I', 'am', 'a', 'python', 'rockstar', '!']\n",
    "# Example while loop\n",
    "i = 0\n",
    "while i < len(list_of_words):\n",
    "    print list_of_words[i]\n",
    "    i = i + 1 "
   ]
  },
  {
   "cell_type": "markdown",
   "metadata": {},
   "source": [
    "####Exercise 3:  Using a while loop, remove the following names from phone_book:  'Brite, Rainbow', 'Shortcake, Strawberry' and 'Man, He'.  Here are the steps involved:\n",
    "1. Make a list of the values you want to remove\n",
    "2. Think if a condition statement for your while loop\n",
    "3. Remove names from phone_book dictionary"
   ]
  },
  {
   "cell_type": "markdown",
   "metadata": {},
   "source": [
    "###Functions\n",
    "    A function is a section of a computer program that is stored only once but can be called when needed throughout the code.  \n",
    "\n",
    "    In python a function is defined with def, and looks like this:\n",
    "\n",
    "        def some_function_name (variable_passed_in_1, variable_passed_in_2...):\n",
    "            ...\n",
    "            return (variable_passed_out_1, variable_passed_out_2...)\n",
    "    \n",
    "    Variables within a function (local variables) are only defined inside of it, unless they are explicitly passed into it.  Likewise, variables defined within the function are not known outside of it unless it is explicitly passed back out to the main part of the code (global variables). No variables need to be passed in or out, and return does not need to be specified.  \n",
    "    You call a function like this:\n",
    "    some_function_name(variable_passed_in_1, variable_passed_in_2...)"
   ]
  },
  {
   "cell_type": "code",
   "execution_count": 67,
   "metadata": {
    "collapsed": false
   },
   "outputs": [
    {
     "name": "stdout",
     "output_type": "stream",
     "text": [
      "yippie!\n"
     ]
    }
   ],
   "source": [
    "# Example function:\n",
    "def print_yippie():\n",
    "    print ('yippie!')\n",
    "#Run the function:\n",
    "print_yippie()"
   ]
  },
  {
   "cell_type": "markdown",
   "metadata": {},
   "source": [
    "3.\tint float and bools\n",
    "2. Dict list tuple\n",
    "3. Math (numpy)\n",
    "4. Indexing and slicing \n",
    "\n",
    "Part 5  Functions and Iterations \n",
    "1. For loops \n",
    "2. Branching (if's)\n",
    "3. Functions\n"
   ]
  },
  {
   "cell_type": "code",
   "execution_count": null,
   "metadata": {
    "collapsed": true
   },
   "outputs": [],
   "source": []
  },
  {
   "cell_type": "code",
   "execution_count": null,
   "metadata": {
    "collapsed": true
   },
   "outputs": [],
   "source": []
  }
 ],
 "metadata": {
  "kernelspec": {
   "display_name": "Python 2",
   "language": "python",
   "name": "python2"
  },
  "language_info": {
   "codemirror_mode": {
    "name": "ipython",
    "version": 2
   },
   "file_extension": ".py",
   "mimetype": "text/x-python",
   "name": "python",
   "nbconvert_exporter": "python",
   "pygments_lexer": "ipython2",
   "version": "2.7.8"
  }
 },
 "nbformat": 4,
 "nbformat_minor": 0
}
