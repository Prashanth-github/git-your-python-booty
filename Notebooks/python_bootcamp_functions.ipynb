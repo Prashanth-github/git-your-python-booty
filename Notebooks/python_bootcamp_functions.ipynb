{
 "cells": [
  {
   "cell_type": "markdown",
   "metadata": {},
   "source": [
    "# Functions\n",
    "## Function Definition\n",
    "A function is an object that is written only once but can be called when needed throughout the code.  It can take in arguments (which are objects), and return objects. However, no variables need to be passed in or out, and return does not need to be specified.  \n",
    "\n",
    "In python a function is defined with def, and looks like this:\n",
    "\n",
    "    def some_function_name (variable_passed_in_1, variable_passed_in_2, ...):\n",
    "        ...Some really cool code here...\n",
    "        return (variable_passed_out_1, variable_passed_out_2...)\n",
    "            \n",
    "You call a function like this:\n",
    "\n",
    "    some_function_name(variable_passed_in_1, variable_passed_in_2, ...)\n",
    "    \n",
    "In the cells below, we provide an examples on how to define functions and use them.  At the very bottom of this notebook are exercises you can do to practice your function writing skills."
   ]
  },
  {
   "cell_type": "code",
   "execution_count": null,
   "metadata": {
    "collapsed": false
   },
   "outputs": [],
   "source": [
    "# Example function:\n",
    "def print_yippie():\n",
    "    print ('yippie!')\n",
    "#Run the function:\n",
    "print_yippie()"
   ]
  },
  {
   "cell_type": "markdown",
   "metadata": {},
   "source": [
    "Now let's pass in a variable, calculate something and spit something else back out.  Here is an example:"
   ]
  },
  {
   "cell_type": "code",
   "execution_count": null,
   "metadata": {
    "collapsed": true
   },
   "outputs": [],
   "source": [
    "def print_greeting_to_someone(greeting, person):\n",
    "    my_greeting = greeting + ', ' + person + '!'\n",
    "    return my_greeting"
   ]
  },
  {
   "cell_type": "code",
   "execution_count": null,
   "metadata": {
    "collapsed": true
   },
   "outputs": [],
   "source": [
    "# Now call the function to get the greeting.\n",
    "greeting = 'Greetings'\n",
    "person = 'Earthling'\n",
    "my_greeting = print_greeting_to_someone(greeting, person)\n",
    "print my_greeting"
   ]
  },
  {
   "cell_type": "markdown",
   "metadata": {},
   "source": [
    "## Local vs. Global Variables\n",
    "**Global Variables** are variables defined in the main part of the code and can be accessed throughout the code.   \n",
    "\n",
    "**Local Variables** are variables defined within a function and cannot be accessed outside of the function unless they are explicitly passed outside of the function (using return).  \n",
    "\n",
    "## Why use functions?  \n",
    "\n",
    "Here are some reason you should write functionally:\n",
    "\n",
    "#### Functions help you write declaratively. \n",
    "\n",
    "For example, say you wanted to add more names to your dictionary using another list of tuples, but then delete others, given a list of names.  You can develop a program that looks like this:\n",
    "\n",
    "    add_names_to_phonebook(phone_book,names_and_numbers_list)\n",
    "    \n",
    "    remove_names_from_phonebook(phone_book, names_to_remove)\n",
    "    \n",
    "Where both of these lines refer to a function that does exactly what it says it is going to do. \n",
    "\n",
    "#### Functions don't rely on nor do they change data outside of the function. \n",
    "\n",
    "This helps prevent 'side effects' -- i.e., double naming of variables, changing data you don't want changed, etc."
   ]
  },
  {
   "cell_type": "markdown",
   "metadata": {},
   "source": [
    "### Exercise 1:  Read the code provided in the cell below.  What will be returned? Why?  How would you change the function to print the opposite answer?"
   ]
  },
  {
   "cell_type": "code",
   "execution_count": null,
   "metadata": {
    "collapsed": false
   },
   "outputs": [],
   "source": [
    "a = 'Hello'\n",
    "def print_greeting(a):\n",
    "    a = 'Bye'\n",
    "print a"
   ]
  },
  {
   "cell_type": "markdown",
   "metadata": {},
   "source": [
    "### Exercise 2:  Write a function that prints every 2nd number from 0 to 100.  *Hint* -- This function could contain a loop and a conditional statement! "
   ]
  },
  {
   "cell_type": "code",
   "execution_count": null,
   "metadata": {
    "collapsed": false
   },
   "outputs": [],
   "source": []
  }
 ],
 "metadata": {
  "kernelspec": {
   "display_name": "Python 2",
   "language": "python",
   "name": "python2"
  },
  "language_info": {
   "codemirror_mode": {
    "name": "ipython",
    "version": 2
   },
   "file_extension": ".py",
   "mimetype": "text/x-python",
   "name": "python",
   "nbconvert_exporter": "python",
   "pygments_lexer": "ipython2",
   "version": "2.7.8"
  }
 },
 "nbformat": 4,
 "nbformat_minor": 0
}
