{
 "cells": [
  {
   "cell_type": "markdown",
   "metadata": {},
   "source": [
    "#Part 6: Functions\n",
    "A function is a section of a computer program that is stored only once but can be called when needed throughout the code.  \n",
    "\n",
    "In python a function is defined with def, and looks like this:\n",
    "\n",
    "        def some_function_name (variable_passed_in_1, variable_passed_in_2...):\n",
    "            ...\n",
    "            return (variable_passed_out_1, variable_passed_out_2...)\n",
    "    \n",
    "Variables within a function (local variables) are only defined inside of it, unless they are explicitly passed into it.  Likewise, variables defined within the function are not known outside of it unless it is explicitly passed back out to the main part of the code (global variables). No variables need to be passed in or out, and return does not need to be specified.  \n",
    "\n",
    "You call a function like this:\n",
    "\n",
    "        some_function_name(variable_passed_in_1, variable_passed_in_2...)"
   ]
  },
  {
   "cell_type": "code",
   "execution_count": null,
   "metadata": {
    "collapsed": false
   },
   "outputs": [],
   "source": [
    "# Example function:\n",
    "def print_yippie():\n",
    "    print ('yippie!')\n",
    "#Run the function:\n",
    "print_yippie()"
   ]
  },
  {
   "cell_type": "markdown",
   "metadata": {},
   "source": [
    "Now let's pass in a variable, calculate something and spit something else back out.  Here is an example:"
   ]
  },
  {
   "cell_type": "code",
   "execution_count": null,
   "metadata": {
    "collapsed": true
   },
   "outputs": [],
   "source": [
    "def print_greeting_to_someone(greeting, person):\n",
    "    my_greeting = greeting + ', ' + person + '!'\n",
    "    return my_greeting"
   ]
  },
  {
   "cell_type": "code",
   "execution_count": null,
   "metadata": {
    "collapsed": true
   },
   "outputs": [],
   "source": [
    "# Now call the function to get the greeting.\n",
    "greeting = 'Greetings'\n",
    "person = 'Earthling'\n",
    "my_greeting = print_greeting_to_someone(greeting, person)\n",
    "print my_greeting"
   ]
  },
  {
   "cell_type": "markdown",
   "metadata": {},
   "source": [
    "###Why use functions?  \n",
    "\n",
    "Here are some reason you should write functionally:\n",
    "\n",
    "(1) *It helps you write declaratively.*  \n",
    "\n",
    "For example, say you wanted to add more names to your dictionary using another list of tuples, but then delete others, given a list of names.  You can develop a program that looks like this:\n",
    "\n",
    "    add_names_to_phonebook(phone_book,names_and_numbers_list)\n",
    "    \n",
    "    remove_names_from_phonebook(phone_book, names_to_remove)\n",
    "    \n",
    "Where both of these lines refer to a function that does exactly what it says it is going to do. \n",
    "\n",
    "(2) *Functions don't rely on nor do they change data outside of the function.*  \n",
    "\n",
    "This helps prevent 'side effects' -- i.e., double naming of variables, changing data you don't want changed, etc."
   ]
  },
  {
   "cell_type": "markdown",
   "metadata": {},
   "source": [
    "####Exercise 4.  Write a function that prints every 2nd number from 0 to 100.  *Hint* -- This function could contain a loop and a conditional statement! "
   ]
  },
  {
   "cell_type": "code",
   "execution_count": null,
   "metadata": {
    "collapsed": true
   },
   "outputs": [],
   "source": []
  }
 ],
 "metadata": {
  "kernelspec": {
   "display_name": "Python 2",
   "language": "python",
   "name": "python2"
  },
  "language_info": {
   "codemirror_mode": {
    "name": "ipython",
    "version": 2
   },
   "file_extension": ".py",
   "mimetype": "text/x-python",
   "name": "python",
   "nbconvert_exporter": "python",
   "pygments_lexer": "ipython2",
   "version": "2.7.8"
  }
 },
 "nbformat": 4,
 "nbformat_minor": 0
}
