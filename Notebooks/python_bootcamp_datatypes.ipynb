{
 "cells": [
  {
   "cell_type": "markdown",
   "metadata": {},
   "source": [
    "# Part 3 Data Types:  Show me the data!"
   ]
  },
  {
   "cell_type": "markdown",
   "metadata": {},
   "source": [
    "According to Google, a **data type** is 'a particular kind of data item, as defined by the values it can take, the programming language used, or the operations that can be performed on it.'"
   ]
  },
  {
   "cell_type": "markdown",
   "metadata": {},
   "source": [
    "###1. Strings \n",
    "    An ordered sequence of characters.  In python, it is defined around quotes"
   ]
  },
  {
   "cell_type": "code",
   "execution_count": null,
   "metadata": {
    "collapsed": false
   },
   "outputs": [],
   "source": [
    "a = 'Monty Python likes rocks.'"
   ]
  },
  {
   "cell_type": "markdown",
   "metadata": {},
   "source": [
    "You can find out how many letters are in this string by typing len(a).  Try it out in the next cell."
   ]
  },
  {
   "cell_type": "code",
   "execution_count": null,
   "metadata": {
    "collapsed": false
   },
   "outputs": [],
   "source": []
  },
  {
   "cell_type": "markdown",
   "metadata": {},
   "source": [
    "You can see what sorts of methods are associated with a string by typing 'a.' and then pressing tab.  Give it a try!"
   ]
  },
  {
   "cell_type": "code",
   "execution_count": null,
   "metadata": {
    "collapsed": false
   },
   "outputs": [],
   "source": []
  },
  {
   "cell_type": "markdown",
   "metadata": {},
   "source": [
    "You can find out a little about the method by typing 'a.method?'.  For example, you might want to know how many o's are in the string. You can find out a little about the method count by a.count?.  Try it out."
   ]
  },
  {
   "cell_type": "code",
   "execution_count": null,
   "metadata": {
    "collapsed": false
   },
   "outputs": [],
   "source": []
  },
  {
   "cell_type": "markdown",
   "metadata": {},
   "source": [
    "You can execute that function by typing 'a.count()'.  Note the parentheses.  If parens are not specified, python will tell you that it is a function (so use parentheses!).  Try executing some of the methods below. "
   ]
  },
  {
   "cell_type": "code",
   "execution_count": null,
   "metadata": {
    "collapsed": false
   },
   "outputs": [],
   "source": []
  },
  {
   "cell_type": "markdown",
   "metadata": {},
   "source": [
    "Each letter, number or symbol in a string is indexed, which defines the order of the elements in the string, starting at 0.  For example, a[0] = 'a'.  How would you get the 'l' in the string defined above?"
   ]
  },
  {
   "cell_type": "code",
   "execution_count": null,
   "metadata": {
    "collapsed": false
   },
   "outputs": [],
   "source": []
  },
  {
   "cell_type": "markdown",
   "metadata": {},
   "source": [
    "You can also extract part of the string by specifying their indices.  For example, if I want to return a string that just says 'Python' I would type a[6:12].  Try it out.  "
   ]
  },
  {
   "cell_type": "code",
   "execution_count": null,
   "metadata": {
    "collapsed": false
   },
   "outputs": [],
   "source": []
  },
  {
   "cell_type": "markdown",
   "metadata": {},
   "source": [
    "From the string above, how would you get 'rocks'?"
   ]
  },
  {
   "cell_type": "code",
   "execution_count": null,
   "metadata": {
    "collapsed": false
   },
   "outputs": [],
   "source": []
  },
  {
   "cell_type": "markdown",
   "metadata": {},
   "source": [
    "You can reverse your search by using '-'.  \n",
    "\n",
    "You can get the last element of your string by typing a[-1].  How do you get the second to last?"
   ]
  },
  {
   "cell_type": "code",
   "execution_count": null,
   "metadata": {
    "collapsed": true
   },
   "outputs": [],
   "source": []
  },
  {
   "cell_type": "markdown",
   "metadata": {},
   "source": [
    "You can get all letters EXCEPT the last 2 by typing a[:-2].  How do you get all but the last 4 letters? "
   ]
  },
  {
   "cell_type": "code",
   "execution_count": null,
   "metadata": {
    "collapsed": true
   },
   "outputs": [],
   "source": []
  },
  {
   "cell_type": "markdown",
   "metadata": {},
   "source": [
    "You can get print a string backwards by typing a[::-1].  How do you print everyother letter in a string backwards?"
   ]
  },
  {
   "cell_type": "code",
   "execution_count": null,
   "metadata": {
    "collapsed": true
   },
   "outputs": [],
   "source": []
  },
  {
   "cell_type": "markdown",
   "metadata": {},
   "source": [
    "Now you know how to break apart strings and make new strings.  You can also add strings together with the + sign.  Knowing what you've learned, try taking the string above and make a new string with variable name new_string and value 'Python Rocks'."
   ]
  },
  {
   "cell_type": "code",
   "execution_count": null,
   "metadata": {
    "collapsed": false
   },
   "outputs": [],
   "source": []
  },
  {
   "cell_type": "markdown",
   "metadata": {},
   "source": [
    "Keep in mind that you can add strings, however, you cannot subtract them."
   ]
  },
  {
   "cell_type": "markdown",
   "metadata": {},
   "source": [
    "###2. Integers and Floats \n",
    "\n",
    "An integer is a whole number that is not a fraction.  A float is a number that include both integers and fractions.  In python you can specify floats with decimal points.  If a decimal point is not specified, python will think it is an integer.  Integers can also be defined as int(), and floats with float().  Examples below:"
   ]
  },
  {
   "cell_type": "code",
   "execution_count": null,
   "metadata": {
    "collapsed": true
   },
   "outputs": [],
   "source": [
    "a = 1  # Integer\n",
    "b = 10.2531  # Decimal\n",
    "c = int(1) \n",
    "d = float(1)"
   ]
  },
  {
   "cell_type": "markdown",
   "metadata": {},
   "source": [
    "You can see what data type something is by using the type method.  For example, type(a). You can verify the data types of a through d below."
   ]
  },
  {
   "cell_type": "code",
   "execution_count": null,
   "metadata": {
    "collapsed": false
   },
   "outputs": [],
   "source": []
  },
  {
   "cell_type": "markdown",
   "metadata": {},
   "source": [
    "###3. Boolean\n",
    "\n",
    "A binary variable having the value of either True or False.  In python you can assign a boolean by using either True or False (note there are no quotes), or by explicitly defining it as a bool:"
   ]
  },
  {
   "cell_type": "code",
   "execution_count": null,
   "metadata": {
    "collapsed": true
   },
   "outputs": [],
   "source": [
    "I_heart_ice_cream = True\n",
    "I_heart_anchovies = False\n",
    "I_like_bools = bool(True)"
   ]
  },
  {
   "cell_type": "code",
   "execution_count": null,
   "metadata": {
    "collapsed": false
   },
   "outputs": [],
   "source": [
    "I_like_bools"
   ]
  },
  {
   "cell_type": "markdown",
   "metadata": {},
   "source": [
    "###3. Lists \n",
    "\n",
    "A list is an ordered sequence of values, where the same value may occur more than once.  I like to think of a list as a real list you would use in every day life, like a grocery list.  Each item in the list is called an element or item, and in python a list is represented by square brackets []. Here is an example of a list:"
   ]
  },
  {
   "cell_type": "code",
   "execution_count": null,
   "metadata": {
    "collapsed": true
   },
   "outputs": [],
   "source": [
    "grocery_list = ['oranges', 'milk', 'cereal', 'coffee']"
   ]
  },
  {
   "cell_type": "markdown",
   "metadata": {},
   "source": [
    "You can see the methods associated with lists by typing the list name and a period then tabbing (just like we did with strings). Also the question mark thing works too.  Try below."
   ]
  },
  {
   "cell_type": "code",
   "execution_count": null,
   "metadata": {
    "collapsed": false
   },
   "outputs": [],
   "source": []
  },
  {
   "cell_type": "markdown",
   "metadata": {},
   "source": [
    "You can add items to your list using the append method.  Try appending 'tea'."
   ]
  },
  {
   "cell_type": "code",
   "execution_count": null,
   "metadata": {
    "collapsed": false
   },
   "outputs": [],
   "source": []
  },
  {
   "cell_type": "markdown",
   "metadata": {},
   "source": [
    "And you can remove an item using remove.  Try removing tea below."
   ]
  },
  {
   "cell_type": "code",
   "execution_count": null,
   "metadata": {
    "collapsed": false
   },
   "outputs": [],
   "source": []
  },
  {
   "cell_type": "markdown",
   "metadata": {},
   "source": [
    "Items in the list are assigned an index, starting at 0, that defines where they are in the list. For example, the first item in the list above can be extracted by typing grocery_list[0]. Try it, then try retrieving  'cereal' from the list."
   ]
  },
  {
   "cell_type": "code",
   "execution_count": null,
   "metadata": {
    "collapsed": false
   },
   "outputs": [],
   "source": []
  },
  {
   "cell_type": "markdown",
   "metadata": {},
   "source": [
    "You can add lists.  Say someone gave you some extra things to by and they have a second list (friend_list) and you wanted to add it to your list."
   ]
  },
  {
   "cell_type": "code",
   "execution_count": null,
   "metadata": {
    "collapsed": false
   },
   "outputs": [],
   "source": [
    "friend_list = ['eggs','bacon','ice cream', 'milk']\n",
    "# Now try adding the lists below:\n"
   ]
  },
  {
   "cell_type": "markdown",
   "metadata": {},
   "source": [
    "Notice that the new list is in the order of the items in the first list, then the second list.\n",
    "\n",
    "Some more exercises:  \n",
    "\n",
    "1. Alphabetically sort the items in the list.\n",
    "2. Remove the second occurrence of 'milk'."
   ]
  },
  {
   "cell_type": "code",
   "execution_count": null,
   "metadata": {
    "collapsed": false
   },
   "outputs": [],
   "source": [
    "total_list = grocery_list + friend_list\n",
    "total_list.sort()\n",
    "total_list.remove('milk')\n",
    "total_list"
   ]
  },
  {
   "cell_type": "markdown",
   "metadata": {},
   "source": [
    "###4. Tuples\n",
    "\n",
    "Tuples, like lists are also a ordered set of items, but it has the added extra property of not being able to change its values after its creation, making them *immutable*.  Tuples are by definition less flexible than lists -- so why use them?  Tuples come in useful when describing something that doesn't make sense without two or more values.  For example the latitude and longitude of a city.  Without either the latitude or the longitude you would not be able to locate the city.\n",
    "\n",
    "In python tuples are defined by parentheses (), or by explicitly defining it as tuple().  Below is an example tuple called seattle (drawing off the city location idea).  "
   ]
  },
  {
   "cell_type": "code",
   "execution_count": null,
   "metadata": {
    "collapsed": true
   },
   "outputs": [],
   "source": [
    "seattle = (47.6097, 122.3331)"
   ]
  },
  {
   "cell_type": "markdown",
   "metadata": {},
   "source": [
    "Take a look at the methods associated with Seattle.  How many methods are there?  How do they compare to the methods of a list?  "
   ]
  },
  {
   "cell_type": "code",
   "execution_count": null,
   "metadata": {
    "collapsed": false
   },
   "outputs": [],
   "source": []
  },
  {
   "cell_type": "markdown",
   "metadata": {},
   "source": [
    "Note that seattle only has two methods or attributes associated with it.  Now that it is created, you cannot add a value to it, nor can you remove the value."
   ]
  },
  {
   "cell_type": "markdown",
   "metadata": {},
   "source": [
    "###5. Dictionaries\n",
    "In computer science, an associative array, map, symbol table, or dictionary is an abstract data type composed of a collection of (key, value) pairs, such that each possible key appears just once in the collection (Wiki).  Imagine a phone book where each name is associated with a phone number.  If you have the name, you have the key that gives you the value (the phone number).  \n",
    "\n",
    "Why use a dictionary when you can just put the values in a list of tuples -- for example:\n",
    "    \n",
    "    [('Able, Mary', '555-555-1234'),..., ('Zip, Justin', '555-555-1235')] \n",
    "    \n",
    "The main reason why a dictionary is used is speed -- in order to get the number for Justin Zip, you would have to read every name in the list until you get to the end of the list.  Imagine a full phone book with millions of names.  It would take a long time to read through all those names in order to get to the Z's.  With a dictionary, you can simply state the key, which has been mapped to its value.  \n",
    "    \n",
    "In python a dictionary is defined with curly brackets {}, or with dict().  Keys and values are mapped like key:value"
   ]
  },
  {
   "cell_type": "code",
   "execution_count": null,
   "metadata": {
    "collapsed": true
   },
   "outputs": [],
   "source": [
    "phone_book = {'Brite, Rainbow': '555-555-1234', \n",
    "             'Shortcake, Strawberry': '555-555-1235'}"
   ]
  },
  {
   "cell_type": "markdown",
   "metadata": {},
   "source": [
    "In order to get Strawberry Shortcake's phone number here you would simply type:"
   ]
  },
  {
   "cell_type": "code",
   "execution_count": null,
   "metadata": {
    "collapsed": false
   },
   "outputs": [],
   "source": [
    "phone_book['Shortcake, Strawberry']"
   ]
  },
  {
   "cell_type": "markdown",
   "metadata": {},
   "source": [
    "In order to get all the names (the keys) you can use the keys() method:"
   ]
  },
  {
   "cell_type": "code",
   "execution_count": null,
   "metadata": {
    "collapsed": false
   },
   "outputs": [],
   "source": [
    "phone_book.keys()"
   ]
  },
  {
   "cell_type": "code",
   "execution_count": null,
   "metadata": {
    "collapsed": true
   },
   "outputs": [],
   "source": [
    "You can get all the values by using the values() method:"
   ]
  },
  {
   "cell_type": "code",
   "execution_count": null,
   "metadata": {
    "collapsed": false
   },
   "outputs": [],
   "source": [
    "phone_book.values()"
   ]
  },
  {
   "cell_type": "markdown",
   "metadata": {},
   "source": [
    "You can add more keys value pairs by using the update method:"
   ]
  },
  {
   "cell_type": "code",
   "execution_count": null,
   "metadata": {
    "collapsed": false
   },
   "outputs": [],
   "source": [
    "phone_book.update({'Mouse, Mickey': '555-555-1236', 'Minney, Mouse': '555-555-1237'})\n",
    "phone_book"
   ]
  },
  {
   "cell_type": "markdown",
   "metadata": {},
   "source": [
    "Or you can use this method:"
   ]
  },
  {
   "cell_type": "code",
   "execution_count": null,
   "metadata": {
    "collapsed": false
   },
   "outputs": [],
   "source": [
    "phone_book['Goof, Goofy'] = '555-555-1238'\n",
    "phone_book"
   ]
  },
  {
   "cell_type": "markdown",
   "metadata": {},
   "source": [
    "And you can remove an item by using the pop method"
   ]
  },
  {
   "cell_type": "code",
   "execution_count": null,
   "metadata": {
    "collapsed": false
   },
   "outputs": [],
   "source": [
    "phone_book.pop('Brite, Rainbow')\n",
    "phone_book"
   ]
  },
  {
   "cell_type": "markdown",
   "metadata": {},
   "source": [
    "You can have a dictionary of dictionaries, a dictionary of lists, or a dictionary of tuples -- the sky is the limit!  Here is an example of a nested dictionary:"
   ]
  },
  {
   "cell_type": "code",
   "execution_count": null,
   "metadata": {
    "collapsed": false
   },
   "outputs": [],
   "source": [
    "cities = {'Seattle': {'lat': 47.6097, \n",
    "                      'lon': 122.3331,\n",
    "                      'state': 'Washington'}, \n",
    "          'New York': {'lat': 40.7127, \n",
    "                       'lon': 74.0059,\n",
    "                       'state': 'New York'}}\n",
    "cities"
   ]
  },
  {
   "cell_type": "markdown",
   "metadata": {},
   "source": [
    "How do you get New York's longitude?"
   ]
  },
  {
   "cell_type": "code",
   "execution_count": null,
   "metadata": {
    "collapsed": false
   },
   "outputs": [],
   "source": []
  },
  {
   "cell_type": "markdown",
   "metadata": {},
   "source": [
    "How would you include Portland, Oregon, located at 45.5200° N, 122.6819° W in cities?"
   ]
  },
  {
   "cell_type": "code",
   "execution_count": null,
   "metadata": {
    "collapsed": true
   },
   "outputs": [],
   "source": []
  },
  {
   "cell_type": "markdown",
   "metadata": {},
   "source": [
    "How would you remove New York and its values?"
   ]
  },
  {
   "cell_type": "code",
   "execution_count": null,
   "metadata": {
    "collapsed": true
   },
   "outputs": [],
   "source": []
  }
 ],
 "metadata": {
  "kernelspec": {
   "display_name": "Python 2",
   "language": "python",
   "name": "python2"
  },
  "language_info": {
   "codemirror_mode": {
    "name": "ipython",
    "version": 2
   },
   "file_extension": ".py",
   "mimetype": "text/x-python",
   "name": "python",
   "nbconvert_exporter": "python",
   "pygments_lexer": "ipython2",
   "version": "2.7.9"
  }
 },
 "nbformat": 4,
 "nbformat_minor": 0
}
