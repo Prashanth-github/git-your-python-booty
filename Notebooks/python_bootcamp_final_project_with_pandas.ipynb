{
 "cells": [
  {
   "cell_type": "markdown",
   "metadata": {},
   "source": [
    "# Final Project: Take 2\n",
    "\n",
    "In this notebook we'll show you how you can do the same calculations from the first \"final\" project with a library called ```pandas```. All the code is included since we didn't cover this :)\n",
    "\n",
    "There are several advantages to using pandas:\n",
    "+ Importing csv's are a breeze\n",
    "+ It's good at distinguishing between types (like ints and strings)\n",
    "+ Indexing is easy, and you can \"group by\" variables like you can in SQL\n",
    "\n",
    "Some disadvantages:\n",
    "+ All your data is loaded in at once, meaning that it won't work well for large files.\n",
    "+ Pandas can't support units (e.g. cm, m, seconds, etc.)"
   ]
  },
  {
   "cell_type": "markdown",
   "metadata": {},
   "source": [
    "## 1. Import your libraries"
   ]
  },
  {
   "cell_type": "code",
   "execution_count": 1,
   "metadata": {
    "collapsed": true
   },
   "outputs": [],
   "source": [
    "%matplotlib inline\n",
    "import numpy as np\n",
    "import matplotlib.pyplot as plt\n",
    "import pandas as pd"
   ]
  },
  {
   "cell_type": "markdown",
   "metadata": {},
   "source": [
    "## 2. File stuff\n",
    "\n",
    "Instead of reading it \"normally\", we'll put it into a Pandas dataframe:"
   ]
  },
  {
   "cell_type": "code",
   "execution_count": 3,
   "metadata": {
    "collapsed": false
   },
   "outputs": [
    {
     "data": {
      "text/html": [
       "<div style=\"max-height:1000px;max-width:1500px;overflow:auto;\">\n",
       "<table border=\"1\" class=\"dataframe\">\n",
       "  <thead>\n",
       "    <tr style=\"text-align: right;\">\n",
       "      <th></th>\n",
       "      <th>id</th>\n",
       "      <th>first_name</th>\n",
       "      <th>country</th>\n",
       "      <th>age</th>\n",
       "      <th>gender</th>\n",
       "    </tr>\n",
       "  </thead>\n",
       "  <tbody>\n",
       "    <tr>\n",
       "      <th>0</th>\n",
       "      <td>1</td>\n",
       "      <td>Nicholas</td>\n",
       "      <td>Honduras</td>\n",
       "      <td>43</td>\n",
       "      <td>M</td>\n",
       "    </tr>\n",
       "    <tr>\n",
       "      <th>1</th>\n",
       "      <td>2</td>\n",
       "      <td>Mildred</td>\n",
       "      <td>Indonesia</td>\n",
       "      <td>31</td>\n",
       "      <td>F</td>\n",
       "    </tr>\n",
       "    <tr>\n",
       "      <th>2</th>\n",
       "      <td>3</td>\n",
       "      <td>Catherine</td>\n",
       "      <td>Malaysia</td>\n",
       "      <td>33</td>\n",
       "      <td>F</td>\n",
       "    </tr>\n",
       "    <tr>\n",
       "      <th>3</th>\n",
       "      <td>4</td>\n",
       "      <td>Juan</td>\n",
       "      <td>China</td>\n",
       "      <td>21</td>\n",
       "      <td>M</td>\n",
       "    </tr>\n",
       "    <tr>\n",
       "      <th>4</th>\n",
       "      <td>5</td>\n",
       "      <td>Christopher</td>\n",
       "      <td>Indonesia</td>\n",
       "      <td>73</td>\n",
       "      <td>M</td>\n",
       "    </tr>\n",
       "  </tbody>\n",
       "</table>\n",
       "</div>"
      ],
      "text/plain": [
       "   id   first_name    country  age gender\n",
       "0   1     Nicholas   Honduras   43      M\n",
       "1   2      Mildred  Indonesia   31      F\n",
       "2   3    Catherine   Malaysia   33      F\n",
       "3   4         Juan      China   21      M\n",
       "4   5  Christopher  Indonesia   73      M"
      ]
     },
     "execution_count": 3,
     "metadata": {},
     "output_type": "execute_result"
    }
   ],
   "source": [
    "data_filename = './sample_data.csv'\n",
    "\n",
    "data = pd.read_csv(data_filename, header=0)\n",
    "data.head()  # show the first 5 rows. Notice they're 0-indexed."
   ]
  },
  {
   "cell_type": "markdown",
   "metadata": {},
   "source": [
    "## 3. Compute the average age of the people in the dataset\n",
    "\n",
    "Hint: only consider the 'age' column, and use numpy to compute the mean"
   ]
  },
  {
   "cell_type": "code",
   "execution_count": null,
   "metadata": {
    "collapsed": false
   },
   "outputs": [],
   "source": [
    "average_age = np.mean(data['age'])\n",
    "print str(average_age) + ' years'\n",
    "print \"The average age is %0.1f years\" % (average_age)"
   ]
  },
  {
   "cell_type": "markdown",
   "metadata": {},
   "source": [
    "## 4. Count the number of men and women in this data\n",
    "\n",
    "Hint: use the pandas \"groupby\" method"
   ]
  },
  {
   "cell_type": "code",
   "execution_count": null,
   "metadata": {
    "collapsed": false
   },
   "outputs": [],
   "source": [
    "group_df = data.groupby(['gender'])\n",
    "print 'Number of women: ' + str(len(group_df.get_group('F')))\n",
    "print 'Number of men: ' + str(len(group_df.get_group('M')))"
   ]
  },
  {
   "cell_type": "markdown",
   "metadata": {},
   "source": [
    "## 5. Compute the average age for men and women (separately)\n",
    "\n",
    "Hint: use the pandas \"groupby\" method, as use numpy to compute the mean"
   ]
  },
  {
   "cell_type": "code",
   "execution_count": null,
   "metadata": {
    "collapsed": false
   },
   "outputs": [],
   "source": [
    "print \"The average age of women is %0.1f years\" % np.mean(group_df.get_group('F')['age'])\n",
    "print \"The average age of men is %0.1f years\" % np.mean(group_df.get_group('M')['age'])"
   ]
  },
  {
   "cell_type": "markdown",
   "metadata": {},
   "source": [
    "## 6. Plot the distribution of ages"
   ]
  },
  {
   "cell_type": "code",
   "execution_count": null,
   "metadata": {
    "collapsed": false
   },
   "outputs": [],
   "source": [
    "num_bins = 50\n",
    "n, bins, patches = plt.hist(data.age, num_bins, facecolor='green', alpha = 0.5)\n",
    "plt.axis([10, 90, 0, 50])  # xmin, xmax, ymin, ymax\n",
    "plt.grid('on')\n",
    "plt.xlabel('Ages of people')\n",
    "plt.ylabel('Count')\n",
    "plt.title('Distribution of ages')\n",
    "plt.show()"
   ]
  }
 ],
 "metadata": {
  "kernelspec": {
   "display_name": "Python 2",
   "language": "python",
   "name": "python2"
  },
  "language_info": {
   "codemirror_mode": {
    "name": "ipython",
    "version": 2
   },
   "file_extension": ".py",
   "mimetype": "text/x-python",
   "name": "python",
   "nbconvert_exporter": "python",
   "pygments_lexer": "ipython2",
   "version": "2.7.9"
  }
 },
 "nbformat": 4,
 "nbformat_minor": 0
}
