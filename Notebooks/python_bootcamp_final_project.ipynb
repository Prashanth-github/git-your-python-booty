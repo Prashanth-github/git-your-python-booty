{
 "cells": [
  {
   "cell_type": "markdown",
   "metadata": {},
   "source": [
    "# Final Project\n",
    "\n",
    "Our goal here is to tie everything together and do a little analysis. :) \n",
    "\n",
    "*Disclaimer*:  This data is totally bogus and was generated on http://www.mockaroo.com.\n",
    "\n",
    "We'll be using the file \"sample_data.csv\", and here's a short summary of the contents of the file. The column names are:\n",
    "    \n",
    "    id, first_name, country, age, gender\n",
    "\n",
    "The first few rows look like this:\n",
    "```\n",
    "    id,first_name,country,age,gender\n",
    "    1,Nicholas,Honduras,43,M\n",
    "    2,Mildred,Indonesia,31,F\n",
    "    3,Catherine,Malaysia,33,F\n",
    "```\n",
    "\n",
    "The steps of this project include:\n",
    "\n",
    "* Reading in the csv file and saving the data to lists\n",
    "* Computing the average age \n",
    "* Counting the number of men and women in the dataset\n",
    "* Plotting the age distribution\n",
    "\n",
    "At this point you might want to think about the data types we've used, and which one(s) might best provide a solution for the steps listed above.  \n",
    "\n",
    "This notebook also introduces two modules you haven't seen yet -- **numpy** (http://www.numpy.org/) and **matplotlib** (http://matplotlib.org/).  The numpy module is a python package that provides mathematical functionality, including arrays and matrices.  Numpy arrays (numpy.array), for example, provides additional methods to list-like objects, including calculating the max, min and mean values. Here is an example:"
   ]
  },
  {
   "cell_type": "code",
   "execution_count": null,
   "metadata": {
    "collapsed": false
   },
   "outputs": [],
   "source": [
    "import numpy\n",
    "a = numpy.array([1,2,3,4,5])\n",
    "a.mean()"
   ]
  },
  {
   "cell_type": "markdown",
   "metadata": {},
   "source": [
    "Matplotlib is a plotting module.  It allows you to create scatter plots, histograms, and many other types of plotting.  It can also be used in combination with other modules, such as basemap (http://matplotlib.org/basemap/) to make geographic maps.  We provide sample code at the end of this project to get you started."
   ]
  },
  {
   "cell_type": "markdown",
   "metadata": {},
   "source": [
    "## 1. Import some useful libraries"
   ]
  },
  {
   "cell_type": "code",
   "execution_count": 1,
   "metadata": {
    "collapsed": true
   },
   "outputs": [],
   "source": [
    "%matplotlib inline\n",
    "import numpy as np\n",
    "import matplotlib.pyplot as plt"
   ]
  },
  {
   "cell_type": "markdown",
   "metadata": {},
   "source": [
    "## 2. Read in the file\n",
    "\n",
    "Using the csv module and the with statement, read in the file and append each item in a line to a list. For example, as you read through the contents of the file, you will append all ages to the list named age. We've started the task in the next cell, you need to complete it!"
   ]
  },
  {
   "cell_type": "code",
   "execution_count": 17,
   "metadata": {
    "collapsed": false
   },
   "outputs": [],
   "source": [
    "import csv \n",
    "\n",
    "myfile = 'sample_data.csv'\n",
    "# The following line defines all the lists you will need to append your data to...\n",
    "row_id = []; first_name = []; country = []; age = []; gender = []\n",
    "with open(myfile, 'rb') as csvfile:\n",
    "\n",
    "                                                "
   ]
  },
  {
   "cell_type": "markdown",
   "metadata": {},
   "source": [
    "## 3. Compute the average age of the people in the dataset\n",
    "\n",
    "Hints: \n",
    "+ Only consider the 'age' column, and look at its type (int? string?).\n",
    "+ Use numpy to calculate the mean.\n",
    "+ We also need to re-open (and close!) the file in order to get the ages out. Ideally you'd open the file just once and grab everything you're interested in."
   ]
  },
  {
   "cell_type": "code",
   "execution_count": null,
   "metadata": {
    "collapsed": false
   },
   "outputs": [],
   "source": []
  },
  {
   "cell_type": "markdown",
   "metadata": {},
   "source": [
    "## 4. Count the number of men and women in this data"
   ]
  },
  {
   "cell_type": "code",
   "execution_count": null,
   "metadata": {
    "collapsed": false
   },
   "outputs": [],
   "source": []
  },
  {
   "cell_type": "markdown",
   "metadata": {},
   "source": [
    "## 5. Compute the average age for men and women (separately)\n",
    "\n",
    "Hint: consider the type of the age data."
   ]
  },
  {
   "cell_type": "code",
   "execution_count": null,
   "metadata": {
    "collapsed": false
   },
   "outputs": [],
   "source": []
  },
  {
   "cell_type": "markdown",
   "metadata": {},
   "source": [
    "## 6. Plot the distribution of ages\n",
    "\n",
    "We haven't gone over plotting at all, so the code is shown here just so you can see how it's done."
   ]
  },
  {
   "cell_type": "code",
   "execution_count": 23,
   "metadata": {
    "collapsed": false
   },
   "outputs": [
    {
     "data": {
      "image/png": "[encoded data removed]",
      "text/plain": [
       "<matplotlib.figure.Figure at 0x10c2d4250>"
      ]
     },
     "metadata": {},
     "output_type": "display_data"
    }
   ],
   "source": [
    "num_bins = 50\n",
    "data_to_plot = age  \n",
    "n, bins, patches = plt.hist(data_to_plot, num_bins, facecolor='green', alpha = 0.5)\n",
    "plt.axis([10, 90, 0, 50])  # xmin, xmax, ymin, ymax\n",
    "plt.grid('on')\n",
    "plt.xlabel('Ages of people')\n",
    "plt.ylabel('Count')\n",
    "plt.title('Distribution of ages')\n",
    "plt.show()"
   ]
  }
 ],
 "metadata": {
  "kernelspec": {
   "display_name": "Python 2",
   "language": "python",
   "name": "python2"
  },
  "language_info": {
   "codemirror_mode": {
    "name": "ipython",
    "version": 2
   },
   "file_extension": ".py",
   "mimetype": "text/x-python",
   "name": "python",
   "nbconvert_exporter": "python",
   "pygments_lexer": "ipython2",
   "version": "2.7.8"
  }
 },
 "nbformat": 4,
 "nbformat_minor": 0
}
