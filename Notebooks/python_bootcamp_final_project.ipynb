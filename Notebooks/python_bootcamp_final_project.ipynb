{
 "cells": [
  {
   "cell_type": "markdown",
   "metadata": {},
   "source": [
    "# Final Project\n",
    "\n",
    "Our goal here is to tie everything together and do a little analysis. :) \n",
    "\n",
    "We'll be using the file \"sample_data.csv\", and here's a short summary of the contents of the file. The column names are:\n",
    "    \n",
    "    id, first_name, country, age, gender\n",
    "\n",
    "The first few rows look like this:\n",
    "```\n",
    "    id,first_name,country,age,gender\n",
    "    1,Nicholas,Honduras,43,M\n",
    "    2,Mildred,Indonesia,31,F\n",
    "    3,Catherine,Malaysia,33,F\n",
    "```\n",
    "\n",
    "This data is totally bogus and was generated on http://www.mockaroo.com."
   ]
  },
  {
   "cell_type": "markdown",
   "metadata": {},
   "source": [
    "## 1. Import some useful libraries"
   ]
  },
  {
   "cell_type": "code",
   "execution_count": 1,
   "metadata": {
    "collapsed": true
   },
   "outputs": [],
   "source": [
    "%matplotlib inline\n",
    "import numpy as np\n",
    "import matplotlib.pyplot as plt"
   ]
  },
  {
   "cell_type": "markdown",
   "metadata": {},
   "source": [
    "## 2. Read in the file\n",
    "\n",
    "Read in the file, and print out the first 5 rows (excluding the header). \n",
    "\n",
    "Hint: use branching."
   ]
  },
  {
   "cell_type": "code",
   "execution_count": null,
   "metadata": {
    "collapsed": false
   },
   "outputs": [],
   "source": []
  },
  {
   "cell_type": "markdown",
   "metadata": {},
   "source": [
    "## 3. Compute the average age of the people in the dataset\n",
    "\n",
    "Hints: \n",
    "+ Only consider the 'age' column, and look at its type (int? string?).\n",
    "+ Use numpy to calculate the mean.\n",
    "+ We also need to re-open (and close!) the file in order to get the ages out. Ideally you'd open the file just once and grab everything you're interested in."
   ]
  },
  {
   "cell_type": "code",
   "execution_count": null,
   "metadata": {
    "collapsed": false
   },
   "outputs": [],
   "source": []
  },
  {
   "cell_type": "markdown",
   "metadata": {},
   "source": [
    "## 4. Count the number of men and women in this data\n",
    "\n",
    "Hint: keep track of your counts."
   ]
  },
  {
   "cell_type": "code",
   "execution_count": null,
   "metadata": {
    "collapsed": false
   },
   "outputs": [],
   "source": []
  },
  {
   "cell_type": "markdown",
   "metadata": {},
   "source": [
    "## 5. Compute the average age for men and women (separately)\n",
    "\n",
    "Hint: consider the type of the age data."
   ]
  },
  {
   "cell_type": "code",
   "execution_count": null,
   "metadata": {
    "collapsed": false
   },
   "outputs": [],
   "source": []
  },
  {
   "cell_type": "markdown",
   "metadata": {},
   "source": [
    "## 6. Plot the distribution of ages\n",
    "\n",
    "We haven't gone over plotting at all, so the code is shown here just so you can see how it's done.\n",
    "\n",
    "Note: Set the variable ```data_to_plot``` to whatever you named the list of ages in step 3."
   ]
  },
  {
   "cell_type": "code",
   "execution_count": null,
   "metadata": {
    "collapsed": false
   },
   "outputs": [],
   "source": [
    "num_bins = 50\n",
    "data_to_plot = ages  # change this line\n",
    "n, bins, patches = plt.hist(data_to_plot, num_bins, facecolor='green', alpha = 0.5)\n",
    "plt.axis([10, 90, 0, 50])  # xmin, xmax, ymin, ymax\n",
    "plt.grid('on')\n",
    "plt.xlabel('Ages of people')\n",
    "plt.ylabel('Count')\n",
    "plt.title('Distribution of ages')\n",
    "plt.show()"
   ]
  },
  {
   "cell_type": "code",
   "execution_count": null,
   "metadata": {
    "collapsed": true
   },
   "outputs": [],
   "source": []
  }
 ],
 "metadata": {
  "kernelspec": {
   "display_name": "Python 2",
   "language": "python",
   "name": "python2"
  },
  "language_info": {
   "codemirror_mode": {
    "name": "ipython",
    "version": 2
   },
   "file_extension": ".py",
   "mimetype": "text/x-python",
   "name": "python",
   "nbconvert_exporter": "python",
   "pygments_lexer": "ipython2",
   "version": "2.7.8"
  }
 },
 "nbformat": 4,
 "nbformat_minor": 0
}
