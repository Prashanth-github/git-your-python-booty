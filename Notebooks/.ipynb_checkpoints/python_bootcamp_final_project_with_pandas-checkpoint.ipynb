{
 "cells": [
  {
   "cell_type": "markdown",
   "metadata": {},
   "source": [
    "# Final Project: Take 2\n",
    "\n",
    "In this notebook we'll show you how you can do the same calculations from the first \"final\" project with a library called ```pandas```. All the code is included since we didn't cover this :)\n",
    "\n",
    "There are several advantages to using pandas:\n",
    "+ Importing csv's are a breeze\n",
    "+ It's good at distinguishing between types (like ints and strings)\n",
    "+ Indexing is easy, and you can \"group by\" variables like you can in SQL\n",
    "\n",
    "Some disadvantages:\n",
    "+ All your data is loaded in at once, meaning that it won't work well for large files.\n",
    "+ Pandas can't support units (e.g. cm, m, seconds, etc.)"
   ]
  },
  {
   "cell_type": "markdown",
   "metadata": {},
   "source": [
    "## 1. Import your libraries"
   ]
  },
  {
   "cell_type": "code",
   "execution_count": null,
   "metadata": {
    "collapsed": true
   },
   "outputs": [],
   "source": [
    "%matplotlib inline\n",
    "import numpy as np\n",
    "import matplotlib.pyplot as plt\n",
    "import pandas as pd"
   ]
  },
  {
   "cell_type": "markdown",
   "metadata": {},
   "source": [
    "## 2. File stuff\n",
    "\n",
    "Instead of reading it \"normally\", we'll put it into a Pandas dataframe:"
   ]
  },
  {
   "cell_type": "code",
   "execution_count": null,
   "metadata": {
    "collapsed": false
   },
   "outputs": [],
   "source": [
    "data_filename = './sample_data.csv'\n",
    "\n",
    "data = pd.read_csv(data_filename, header=False)\n",
    "data.head()  # show the first 5 rows. Notice they're 0-indexed."
   ]
  },
  {
   "cell_type": "markdown",
   "metadata": {},
   "source": [
    "## 3. Compute the average age of the people in the dataset\n",
    "\n",
    "Hint: only consider the 'age' column, and use numpy to compute the mean"
   ]
  },
  {
   "cell_type": "code",
   "execution_count": null,
   "metadata": {
    "collapsed": false
   },
   "outputs": [],
   "source": [
    "average_age = np.mean(data['age'])\n",
    "print str(average_age) + ' years'\n",
    "print \"The average age is %0.1f years\" % (average_age)"
   ]
  },
  {
   "cell_type": "markdown",
   "metadata": {},
   "source": [
    "## 4. Count the number of men and women in this data\n",
    "\n",
    "Hint: use the pandas \"groupby\" method"
   ]
  },
  {
   "cell_type": "code",
   "execution_count": null,
   "metadata": {
    "collapsed": false
   },
   "outputs": [],
   "source": [
    "group_df = data.groupby(['gender'])\n",
    "print 'Number of women: ' + str(len(group_df.get_group('F')))\n",
    "print 'Number of men: ' + str(len(group_df.get_group('M')))"
   ]
  },
  {
   "cell_type": "markdown",
   "metadata": {},
   "source": [
    "## 5. Compute the average age for men and women (separately)\n",
    "\n",
    "Hint: use the pandas \"groupby\" method, as use numpy to compute the mean"
   ]
  },
  {
   "cell_type": "code",
   "execution_count": null,
   "metadata": {
    "collapsed": false
   },
   "outputs": [],
   "source": [
    "print \"The average age of women is %0.1f years\" % np.mean(group_df.get_group('F')['age'])\n",
    "print \"The average age of men is %0.1f years\" % np.mean(group_df.get_group('M')['age'])"
   ]
  },
  {
   "cell_type": "markdown",
   "metadata": {},
   "source": [
    "## 6. Plot the distribution of ages"
   ]
  },
  {
   "cell_type": "code",
   "execution_count": null,
   "metadata": {
    "collapsed": false
   },
   "outputs": [],
   "source": [
    "num_bins = 50\n",
    "n, bins, patches = plt.hist(data.age, num_bins, facecolor='green', alpha = 0.5)\n",
    "plt.axis([10, 90, 0, 50])  # xmin, xmax, ymin, ymax\n",
    "plt.grid('on')\n",
    "plt.xlabel('Ages of people')\n",
    "plt.ylabel('Count')\n",
    "plt.title('Distribution of ages')\n",
    "plt.show()"
   ]
  }
 ],
 "metadata": {
  "kernelspec": {
   "display_name": "Python 2",
   "language": "python",
   "name": "python2"
  },
  "language_info": {
   "codemirror_mode": {
    "name": "ipython",
    "version": 2
   },
   "file_extension": ".py",
   "mimetype": "text/x-python",
   "name": "python",
   "nbconvert_exporter": "python",
   "pygments_lexer": "ipython2",
   "version": "2.7.10"
  }
 },
 "nbformat": 4,
 "nbformat_minor": 0
}
