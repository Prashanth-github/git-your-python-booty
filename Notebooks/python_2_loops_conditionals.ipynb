{
 "cells": [
  {
   "cell_type": "markdown",
   "metadata": {},
   "source": [
    "# Loops and Conditionals"
   ]
  },
  {
   "cell_type": "markdown",
   "metadata": {},
   "source": [
    "In this section we look at ways to control the flow of your code.  \n",
    "\n",
    "We will cover:\n",
    "* For loops\n",
    "* If-else blocks \n",
    "\n",
    "Exercises are included at the end of each section."
   ]
  },
  {
   "cell_type": "markdown",
   "metadata": {},
   "source": [
    "### For Loops\n",
    "For loops are used when you have some of code you want to repeat n times.  "
   ]
  },
  {
   "cell_type": "code",
   "execution_count": null,
   "metadata": {
    "collapsed": false
   },
   "outputs": [],
   "source": [
    "# For each item in my list, do something...\n",
    "my_list = ['Hear', 'See', 'Speak']\n",
    "for n in my_list:\n",
    "    print (n + ' no evil')"
   ]
  },
  {
   "cell_type": "markdown",
   "metadata": {},
   "source": [
    "This can also be done by specifying the index and iterating through specifying a range of index values can easily be obtained by using **range()**, e.g.:"
   ]
  },
  {
   "cell_type": "code",
   "execution_count": null,
   "metadata": {
    "collapsed": false
   },
   "outputs": [],
   "source": [
    "range(0,10)"
   ]
  },
  {
   "cell_type": "markdown",
   "metadata": {},
   "source": [
    "*Note that range() will generate a sequence up to but not including the stopping number.*"
   ]
  },
  {
   "cell_type": "code",
   "execution_count": null,
   "metadata": {
    "collapsed": false
   },
   "outputs": [],
   "source": [
    "# Here is an example loop:\n",
    "for n in range(0, len(my_list)):\n",
    "    print n\n",
    "    print (my_list[n] + ' no evil')\n",
    "    print \"hello\""
   ]
  },
  {
   "cell_type": "markdown",
   "metadata": {},
   "source": [
    "The **enumerate()** function adds a counter to the thing being iterated. For example:"
   ]
  },
  {
   "cell_type": "code",
   "execution_count": null,
   "metadata": {
    "collapsed": false
   },
   "outputs": [],
   "source": [
    "for count, item in enumerate(my_list):\n",
    "    print (count, item + ' no evil')"
   ]
  },
  {
   "cell_type": "markdown",
   "metadata": {},
   "source": [
    "### Exercise 1:  Using a for loop, insert new names and phone numbers into a phone book. \n",
    "\n",
    "We will take this problem in small parts to ensure you understand the data types and how loops work. Follow the steps outlined below.\n",
    "\n",
    "**Step 1:**  Define, review and understand the data structure of our phone book.  Below we have the dictionary called phone_book that contains names (keys) and phone numbers (values). "
   ]
  },
  {
   "cell_type": "code",
   "execution_count": null,
   "metadata": {
    "collapsed": true
   },
   "outputs": [],
   "source": [
    "phone_book =  {'Brite, Rainbow': '555-555-1234',\n",
    "               'Goof, Goofy': '555-555-1238',\n",
    "               'Minney, Mouse': '555-555-1237',\n",
    "               'Mouse, Mickey': '555-555-1236',\n",
    "               'Shortcake, Strawberry': '555-555-1235'}"
   ]
  },
  {
   "cell_type": "markdown",
   "metadata": {},
   "source": [
    "To review the previous notebook, how would you get Mickey Mouse's phone number? Try below."
   ]
  },
  {
   "cell_type": "code",
   "execution_count": null,
   "metadata": {
    "collapsed": true
   },
   "outputs": [],
   "source": []
  },
  {
   "cell_type": "markdown",
   "metadata": {},
   "source": [
    "**Step 2.** Define, review and understand our new numbers we want to add. Below we have a 'list of lists' that contain new names and numbers."
   ]
  },
  {
   "cell_type": "code",
   "execution_count": 1,
   "metadata": {
    "collapsed": false
   },
   "outputs": [],
   "source": [
    "new_numbers = [['Man, He', '555-555-2345'],\n",
    "               ['Ra, She', '555-555-2346'],\n",
    "               ['Boney, Skeletor', '555-555-2347'],\n",
    "               ['WhatIsThisThing, Orko', '555-555-2348']]"
   ]
  },
  {
   "cell_type": "markdown",
   "metadata": {},
   "source": [
    "Reviewing the previous notebook, what data type is the first element in this list of lists?  Verify your answer by extracting the first element using the type() method. "
   ]
  },
  {
   "cell_type": "code",
   "execution_count": null,
   "metadata": {
    "collapsed": true
   },
   "outputs": [],
   "source": []
  },
  {
   "cell_type": "markdown",
   "metadata": {},
   "source": [
    "How would you get She Ra's phone number? Try below."
   ]
  },
  {
   "cell_type": "code",
   "execution_count": null,
   "metadata": {
    "collapsed": true
   },
   "outputs": [],
   "source": []
  },
  {
   "cell_type": "markdown",
   "metadata": {},
   "source": [
    "Great!  If you got this far, you have a good idea about each of the data types involved.\n",
    "\n",
    "\n",
    "**Step 3.**  Create a loop that cycles through each element in new_numbers, and simply use the print command to print each element.  Try running the same loop, but print only the names contained in each element."
   ]
  },
  {
   "cell_type": "code",
   "execution_count": null,
   "metadata": {
    "collapsed": false
   },
   "outputs": [],
   "source": []
  },
  {
   "cell_type": "markdown",
   "metadata": {},
   "source": [
    "**Step 4.** Using the same loop you developed above, now print individual key value pairs in the form of individual dictionaries.  For example, the first line you print should look like:  ``` {'Man, He': '555-555-2345'} ```"
   ]
  },
  {
   "cell_type": "code",
   "execution_count": null,
   "metadata": {
    "collapsed": false
   },
   "outputs": [],
   "source": []
  },
  {
   "cell_type": "markdown",
   "metadata": {},
   "source": [
    "**Step 5:** Using the loop you developed, use the update method to update phone_book.  Try below. "
   ]
  },
  {
   "cell_type": "code",
   "execution_count": null,
   "metadata": {
    "collapsed": true
   },
   "outputs": [],
   "source": []
  },
  {
   "cell_type": "markdown",
   "metadata": {},
   "source": [
    "## If Statements\n",
    "\n",
    "An **if** statement allows control of the flow of your program based on if a statement is true or false. Here are the conditionals you can use:\n",
    "    \n",
    "    < (strictly less than)\n",
    "    > (strictly greater than)\n",
    "    <= (less than or equal to)\n",
    "    >= (greater than or equal to)\n",
    "    == (equal to)\n",
    "    != (not equal to)\n",
    "    \n",
    "The logical operators && (and), || (or), and ! (not) are also useful for combining expressions to test. In Python, these operators are represented by their words: \n",
    "\n",
    "    and\n",
    "    or\n",
    "    not\n",
    "    \n",
    "Conditionals can consist of just the **if**, **if** and **else**, or **if** , **elif** (shorthand for \"else if\"), and/or **else** statements."
   ]
  },
  {
   "cell_type": "code",
   "execution_count": null,
   "metadata": {
    "collapsed": false
   },
   "outputs": [],
   "source": [
    "# If Examples...\n",
    "Goofy='has tiny feet'\n",
    "\n",
    "# Just the if\n",
    "if Goofy == 'has big feet':   \n",
    "    print ('Yeah he does!')\n",
    "\n",
    "# The if and an else\n",
    "if Goofy == 'has big feet':   \n",
    "    print ('Yeah he does!')\n",
    "else:\n",
    "    print ('Huh?')\n",
    "\n",
    "# The if, elif and else \n",
    "if Goofy == 'has big feet':   \n",
    "    print ('Yeah he does!')\n",
    "elif Goofy == 'has tiny feet':\n",
    "    print ('No, I think you are mistaken')\n",
    "else:\n",
    "    print ('Huh?')\n",
    "    \n",
    "    \n",
    "a = 5\n",
    "b = 10\n",
    "\n",
    "if a == 5 and b == 10:\n",
    "    print (\"both conditions were met\")\n",
    "elif a == 6 or b == 20:\n",
    "    print (\"this won't happen here\")\n",
    "else: \n",
    "    print (\"change the values of a or b to get here\")"
   ]
  },
  {
   "cell_type": "markdown",
   "metadata": {},
   "source": [
    "### Exercise 2:  In computing, the modulo finds the remainder after division of one number by another.  If the modulo is 0 it means that dividing one number by the other produces a whole number.  For example, 4/2 = 2 with no remainder has a modulo of 0.  The modulo, represented by % in python, would be 4%2 = 0.  Let's loop through a range of numbers from 0 to 100.  If the number modulo 2 = 0, print 'Crackle', else print 'Pop'."
   ]
  },
  {
   "cell_type": "markdown",
   "metadata": {
    "collapsed": false
   },
   "source": [
    "Hints:\n",
    "    1. Define a range of numbers\n",
    "    2. Create a loop that contains conditional if statements\n",
    "\n",
    "Below is skeleton code of your for loop and if/else statements.  You need to fill in where you see '...'. "
   ]
  },
  {
   "cell_type": "code",
   "execution_count": null,
   "metadata": {
    "collapsed": true
   },
   "outputs": [],
   "source": [
    "sequence_of_numbers = range(...)\n",
    "\n",
    "for num in sequence_of_numbers:\n",
    "    if ...:\n",
    "        ...\n",
    "    else:\n",
    "        ...\n",
    "    "
   ]
  }
 ],
 "metadata": {
  "kernelspec": {
   "display_name": "Python 2",
   "language": "python",
   "name": "python2"
  },
  "language_info": {
   "codemirror_mode": {
    "name": "ipython",
    "version": 2
   },
   "file_extension": ".py",
   "mimetype": "text/x-python",
   "name": "python",
   "nbconvert_exporter": "python",
   "pygments_lexer": "ipython2",
   "version": "2.7.10"
  }
 },
 "nbformat": 4,
 "nbformat_minor": 0
}
