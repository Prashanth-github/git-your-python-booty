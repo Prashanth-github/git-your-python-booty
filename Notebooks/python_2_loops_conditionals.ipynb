{
 "cells": [
  {
   "cell_type": "markdown",
   "metadata": {},
   "source": [
    "# Loops and Conditionals"
   ]
  },
  {
   "cell_type": "markdown",
   "metadata": {},
   "source": [
    "In this section we look at ways to control the flow of your code.  \n",
    "\n",
    "We will cover:\n",
    "* For loops\n",
    "* While loops\n",
    "* If-else blocks \n",
    "\n",
    "Exercises are included at the end of each section."
   ]
  },
  {
   "cell_type": "markdown",
   "metadata": {},
   "source": [
    "### For Loops\n",
    "For loops are used when you have some of code you want to repeat n times.  "
   ]
  },
  {
   "cell_type": "code",
   "execution_count": 1,
   "metadata": {
    "collapsed": false
   },
   "outputs": [
    {
     "name": "stdout",
     "output_type": "stream",
     "text": [
      "Hear no evil\n",
      "See no evil\n",
      "Speak no evil\n"
     ]
    }
   ],
   "source": [
    "# For each item in my list, do something...\n",
    "my_list = ['Hear', 'See', 'Speak']\n",
    "for n in my_list:\n",
    "    print (n + ' no evil')"
   ]
  },
  {
   "cell_type": "markdown",
   "metadata": {},
   "source": [
    "This can also be done by specifying the index and iterating through specifying a range of index values can easily be obtained by using **range()**, e.g.:"
   ]
  },
  {
   "cell_type": "code",
   "execution_count": 2,
   "metadata": {
    "collapsed": false
   },
   "outputs": [
    {
     "data": {
      "text/plain": [
       "[0, 1, 2, 3, 4, 5, 6, 7, 8, 9]"
      ]
     },
     "execution_count": 2,
     "metadata": {},
     "output_type": "execute_result"
    }
   ],
   "source": [
    "range(0,10)"
   ]
  },
  {
   "cell_type": "markdown",
   "metadata": {},
   "source": [
    "*Note that range() will generate a sequence up to but not including the stopping number.*"
   ]
  },
  {
   "cell_type": "code",
   "execution_count": 9,
   "metadata": {
    "collapsed": false
   },
   "outputs": [
    {
     "name": "stdout",
     "output_type": "stream",
     "text": [
      "0\n",
      "Hear no evil\n",
      "hello\n",
      "1\n",
      "See no evil\n",
      "hello\n",
      "2\n",
      "Speak no evil\n",
      "hello\n"
     ]
    }
   ],
   "source": [
    "# Here is an example loop:\n",
    "for n in range(0, len(my_list)):\n",
    "    print n\n",
    "    print (my_list[n] + ' no evil')\n",
    "    print \"hello\""
   ]
  },
  {
   "cell_type": "markdown",
   "metadata": {},
   "source": [
    "The **enumerate()** function adds a counter to the thing being iterated. For example:"
   ]
  },
  {
   "cell_type": "code",
   "execution_count": 10,
   "metadata": {
    "collapsed": false
   },
   "outputs": [
    {
     "name": "stdout",
     "output_type": "stream",
     "text": [
      "(0, 'Hear no evil')\n",
      "(1, 'See no evil')\n",
      "(2, 'Speak no evil')\n"
     ]
    }
   ],
   "source": [
    "for count, item in enumerate(my_list):\n",
    "    print (count, item + ' no evil')"
   ]
  },
  {
   "cell_type": "markdown",
   "metadata": {},
   "source": [
    "### Exercise 1:  We want to add more names and numbers to our phone book.  Given the list of tuples containing names and numbers called new_numbers, make a for loop that adds them into the dictionary defined as phone_book."
   ]
  },
  {
   "cell_type": "code",
   "execution_count": 13,
   "metadata": {
    "collapsed": false
   },
   "outputs": [],
   "source": [
    "phone_book =  {'Brite, Rainbow': '555-555-1234',\n",
    "               'Goof, Goofy': '555-555-1238',\n",
    "               'Minney, Mouse': '555-555-1237',\n",
    "               'Mouse, Mickey': '555-555-1236',\n",
    "               'Shortcake, Strawberry': '555-555-1235'}\n",
    "\n",
    "new_numbers = [('Man, He', '555-555-2345'),\n",
    "               ('Ra, She', '555-555-2346'),\n",
    "               ('Boney, Skeletor', '555-555-2347'),\n",
    "               ('WhatIsThisThing, Orko', '555-555-2348')]\n",
    "# Hint:  You should loop through all the tuples in new_numbers, and in your loop \n",
    "# Update your phone_book"
   ]
  },
  {
   "cell_type": "code",
   "execution_count": 18,
   "metadata": {
    "collapsed": false
   },
   "outputs": [
    {
     "data": {
      "text/plain": [
       "{'Boney, Skeletor': '555-555-2348',\n",
       " 'Brite, Rainbow': '555-555-1234',\n",
       " 'Goof, Goofy': '555-555-1238',\n",
       " 'Man, He': '555-555-2348',\n",
       " 'Minney, Mouse': '555-555-1237',\n",
       " 'Mouse, Mickey': '555-555-1236',\n",
       " 'Ra, She': '555-555-2348',\n",
       " 'Shortcake, Strawberry': '555-555-1235',\n",
       " 'WhatIsThisThing, Orko': '555-555-2348'}"
      ]
     },
     "execution_count": 18,
     "metadata": {},
     "output_type": "execute_result"
    }
   ],
   "source": [
    "# # hint: how to get the first element out of a tuple\n",
    "# my_tuple = (5,6)\n",
    "# my_tuple[0]\n",
    "\n",
    "for element in new_numbers:\n",
    "    name = element[0]\n",
    "    number = new_number[1]\n",
    "    phone_book[name] = number\n",
    "    \n",
    "phone_book"
   ]
  },
  {
   "cell_type": "markdown",
   "metadata": {},
   "source": [
    "### While Loops\n",
    "\n",
    "While loops, like for loops, allow repeated execution of code, but is based on a boolean condition."
   ]
  },
  {
   "cell_type": "code",
   "execution_count": null,
   "metadata": {
    "collapsed": false
   },
   "outputs": [],
   "source": [
    "# Example list of words\n",
    "list_of_words = ['I', 'am', 'a', 'python', 'rockstar', '!']\n",
    "# Example while loop\n",
    "i = 0\n",
    "while i < len(list_of_words):\n",
    "    print list_of_words[i]\n",
    "    i = i + 1 "
   ]
  },
  {
   "cell_type": "markdown",
   "metadata": {},
   "source": [
    "### Exercise 2:  Using a while loop, remove the following names from phone_book:  'Brite, Rainbow', 'Shortcake, Strawberry' and 'Man, He'.  Here are the steps involved:\n",
    "1. Make a list of the values you want to remove\n",
    "2. Think of a condition statement for your while loop (remember to update your counter!)\n",
    "3. Remove names from phone_book dictionary"
   ]
  },
  {
   "cell_type": "code",
   "execution_count": 19,
   "metadata": {
    "collapsed": false
   },
   "outputs": [
    {
     "name": "stdout",
     "output_type": "stream",
     "text": [
      "{'WhatIsThisThing, Orko': '555-555-2348', 'Goof, Goofy': '555-555-1238', 'Ra, She': '555-555-2348', 'Mouse, Mickey': '555-555-1236', 'Minney, Mouse': '555-555-1237', 'Boney, Skeletor': '555-555-2348'}\n"
     ]
    }
   ],
   "source": [
    "# Step 1:\n",
    "names_to_remove = ['Brite, Rainbow', 'Shortcake, Strawberry', 'Man, He']\n",
    "\n",
    "counter = 0\n",
    "while counter < len(names_to_remove):\n",
    "    del phone_book[names_to_remove[counter]]\n",
    "    counter = counter + 1\n",
    "    \n",
    "print phone_book"
   ]
  },
  {
   "cell_type": "markdown",
   "metadata": {},
   "source": [
    "## If Statements\n",
    "\n",
    "An **if** statement allows control of the flow of your program based on if a statement is true or false. Here are the conditionals you can use:\n",
    "    \n",
    "    < (strictly less than)\n",
    "    > (strictly greater than)\n",
    "    <= (less than or equal to)\n",
    "    >= (greater than or equal to)\n",
    "    == (equal to)\n",
    "    != (not equal to)\n",
    "    \n",
    "The logical operators && (and), || (or), and ! (not) are also useful for combining expressions to test. In Python, these operators are represented by their words: \n",
    "\n",
    "    and\n",
    "    or\n",
    "    not\n",
    "    \n",
    "Conditionals can consist of just the **if**, **if** and **else**, or **if** , **elif** (shorthand for \"else if\"), and/or **else** statements."
   ]
  },
  {
   "cell_type": "code",
   "execution_count": null,
   "metadata": {
    "collapsed": false
   },
   "outputs": [],
   "source": [
    "# If Examples...\n",
    "Goofy='has tiny feet'\n",
    "\n",
    "# Just the if\n",
    "if Goofy == 'has big feet':   \n",
    "    print ('Yeah he does!')\n",
    "\n",
    "# The if and an else\n",
    "if Goofy == 'has big feet':   \n",
    "    print ('Yeah he does!')\n",
    "else:\n",
    "    print ('Huh?')\n",
    "\n",
    "# The if, elif and else \n",
    "if Goofy == 'has big feet':   \n",
    "    print ('Yeah he does!')\n",
    "elif Goofy == 'has tiny feet':\n",
    "    print ('No, I think you are mistaken')\n",
    "else:\n",
    "    print ('Huh?')\n",
    "    \n",
    "    \n",
    "a = 5\n",
    "b = 10\n",
    "\n",
    "if a == 5 and b == 10:\n",
    "    print (\"both conditions were met\")\n",
    "elif a == 6 or b == 20:\n",
    "    print (\"this won't happen here\")\n",
    "else: \n",
    "    print (\"change the values of a or b to get here\")"
   ]
  },
  {
   "cell_type": "markdown",
   "metadata": {},
   "source": [
    "### Exercise 3:  In computing, the modulo finds the remainder after division of one number by another.  If the modulo is 0 it means that dividing one number by the other produces a whole number.  For example, 4/2 = 2 with no remainder has a modulo of 0.  The modulo, represented by % in python, would be 4%2 = 0.  Let's loop through a range of numbers from 0 to 100.  If the number modulo 2 = 0, print 'Crackle', else print 'Pop'."
   ]
  },
  {
   "cell_type": "markdown",
   "metadata": {
    "collapsed": false
   },
   "source": [
    "Hints:\n",
    "1. Define a range of numbers\n",
    "2. Create a loop that contains conditional if statements"
   ]
  },
  {
   "cell_type": "code",
   "execution_count": null,
   "metadata": {
    "collapsed": true
   },
   "outputs": [],
   "source": [
    "sequence_of_numbers = range(...)\n",
    "\n",
    "for num in sequence_of_numbers:\n",
    "    if ...:\n",
    "        ...\n",
    "    else:\n",
    "        ...\n",
    "    "
   ]
  }
 ],
 "metadata": {
  "kernelspec": {
   "display_name": "Python 2",
   "language": "python",
   "name": "python2"
  },
  "language_info": {
   "codemirror_mode": {
    "name": "ipython",
    "version": 2
   },
   "file_extension": ".py",
   "mimetype": "text/x-python",
   "name": "python",
   "nbconvert_exporter": "python",
   "pygments_lexer": "ipython2",
   "version": "2.7.10"
  }
 },
 "nbformat": 4,
 "nbformat_minor": 0
}
