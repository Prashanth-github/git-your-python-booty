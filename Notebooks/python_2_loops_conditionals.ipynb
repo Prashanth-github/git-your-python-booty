{
 "cells": [
  {
   "cell_type": "markdown",
   "metadata": {},
   "source": [
    "# Loops and Conditionals"
   ]
  },
  {
   "cell_type": "markdown",
   "metadata": {},
   "source": [
    "In this section we look at ways to control the flow of your code.  \n",
    "\n",
    "We will cover:\n",
    "* For Loops\n",
    "* While Loops\n",
    "* If-else if-else statements \n",
    "\n",
    "Exercises are included At the end of each section."
   ]
  },
  {
   "cell_type": "markdown",
   "metadata": {},
   "source": [
    "### For Loops\n",
    "For loops are used when you have a bit of code you want to repeat n times.  "
   ]
  },
  {
   "cell_type": "code",
   "execution_count": null,
   "metadata": {
    "collapsed": false
   },
   "outputs": [],
   "source": [
    "# For each item in my list, do something...\n",
    "my_list = ['Hear', 'See', 'Speak']\n",
    "for n in my_list:\n",
    "    print (n + ' no evil')"
   ]
  },
  {
   "cell_type": "markdown",
   "metadata": {},
   "source": [
    "This can also be done by specifying the index and iterating through specifying a range of index values can easily be obtained by using range, e.g.:"
   ]
  },
  {
   "cell_type": "code",
   "execution_count": null,
   "metadata": {
    "collapsed": false
   },
   "outputs": [],
   "source": [
    "range(0,10)"
   ]
  },
  {
   "cell_type": "code",
   "execution_count": null,
   "metadata": {
    "collapsed": false
   },
   "outputs": [],
   "source": [
    "# Here is an example loop:\n",
    "for n in range(0, len(my_list)):\n",
    "    print (my_list[n] + ' no evil')"
   ]
  },
  {
   "cell_type": "markdown",
   "metadata": {},
   "source": [
    "The enumerate function adds a counter to the thing being iterated. For example:"
   ]
  },
  {
   "cell_type": "code",
   "execution_count": null,
   "metadata": {
    "collapsed": false
   },
   "outputs": [],
   "source": [
    "for count, item in enumerate(my_list):\n",
    "    print (count, item + ' no evil')"
   ]
  },
  {
   "cell_type": "markdown",
   "metadata": {},
   "source": [
    "### Exercise 1:  We want to add more names and numbers to our phone book.  Given the list of tuples containing names and numbers called new_numbers, make a for loop that adds them into the dictionary defined as phone_book."
   ]
  },
  {
   "cell_type": "code",
   "execution_count": 18,
   "metadata": {
    "collapsed": false
   },
   "outputs": [],
   "source": [
    "phone_book =  {'Brite, Rainbow': '555-555-1234',\n",
    "               'Goof, Goofy': '555-555-1238',\n",
    "               'Minney, Mouse': '555-555-1237',\n",
    "               'Mouse, Mickey': '555-555-1236',\n",
    "               'Shortcake, Strawberry': '555-555-1235'}\n",
    "\n",
    "new_numbers = [('Man, He', '555-555-2345'),\n",
    "               ('Ra, She', '555-555-2346'),\n",
    "               ('Boney, Skeletor', '555-555-2347'),\n",
    "               ('WhatIsThisThing, Orko', '555-555-2348')]\n",
    "# Hint:  You should loop through all the tuples in new_numbers, and in your loop \n",
    "# Update your phone_book"
   ]
  },
  {
   "cell_type": "code",
   "execution_count": 19,
   "metadata": {
    "collapsed": false
   },
   "outputs": [],
   "source": []
  },
  {
   "cell_type": "markdown",
   "metadata": {},
   "source": [
    "### While Loops\n",
    "\n",
    "While loops, like for loops, allow repeated execution of code, but is based on a boolean condition."
   ]
  },
  {
   "cell_type": "code",
   "execution_count": null,
   "metadata": {
    "collapsed": false
   },
   "outputs": [],
   "source": [
    "# Example list of words\n",
    "list_of_words = ['I', 'am', 'a', 'python', 'rockstar', '!']\n",
    "# Example while loop\n",
    "i = 0\n",
    "while i < len(list_of_words):\n",
    "    print list_of_words[i]\n",
    "    i = i + 1 "
   ]
  },
  {
   "cell_type": "markdown",
   "metadata": {},
   "source": [
    "### Exercise 2:  Using a while loop, remove the following names from phone_book:  'Brite, Rainbow', 'Shortcake, Strawberry' and 'Man, He'.  Here are the steps involved:\n",
    "1. Make a list of the values you want to remove\n",
    "2. Think of a condition statement for your while loop\n",
    "3. Remove names from phone_book dictionary"
   ]
  },
  {
   "cell_type": "code",
   "execution_count": 20,
   "metadata": {
    "collapsed": false
   },
   "outputs": [],
   "source": []
  },
  {
   "cell_type": "markdown",
   "metadata": {},
   "source": [
    "## If Statements\n",
    "\n",
    "An if statement allows control of the flow of your program based on if a statement is true or false. Here are the conditionals you can use:\n",
    "    \n",
    "    Less than <\n",
    "    Greater than >\n",
    "    Less than or equal to =<\n",
    "    Greater than or equal to =>\n",
    "    Equals ==\n",
    "    Not Equals !=\n",
    "    \n",
    "The if construct can consist of just the if, if and else, or if, elif, else."
   ]
  },
  {
   "cell_type": "code",
   "execution_count": null,
   "metadata": {
    "collapsed": false
   },
   "outputs": [],
   "source": [
    "# If Examples...\n",
    "Goofy='has tiny feet'\n",
    "\n",
    "# Just the if\n",
    "if Goofy == 'has big feet':   \n",
    "    print ('Yeah he does!')\n",
    "\n",
    "# The if and an else\n",
    "if Goofy == 'has big feet':   \n",
    "    print ('Yeah he does!')\n",
    "else:\n",
    "    print ('Huh?')\n",
    "\n",
    "# The if, elif and else \n",
    "if Goofy == 'has big feet':   \n",
    "    print ('Yeah he does!')\n",
    "elif Goofy == 'has tiny feet':\n",
    "    print ('No, I think you are mistaken')\n",
    "else:\n",
    "    print ('Huh?')"
   ]
  },
  {
   "cell_type": "markdown",
   "metadata": {},
   "source": [
    "### Exercise 3:  In computing, the modulo finds the remainder after division of one number by another.  If the modulo is 0 it means that dividing one number by the other produces a whole number.  For example, 4/2 = 2 with no remainder has a modulo of 0.  The modulo, represented by % in python, would be 4%2 = 0.  Let's loop through a range of numbers from 0 to 100.  If the number modulo 2 = 0, print 'Crackle', else print 'Pop'."
   ]
  },
  {
   "cell_type": "code",
   "execution_count": null,
   "metadata": {
    "collapsed": false
   },
   "outputs": [],
   "source": [
    "# Hints:\n",
    "# 1. Define a range of numbers\n",
    "# 2. Create a loop that contains conditional if statements"
   ]
  },
  {
   "cell_type": "code",
   "execution_count": null,
   "metadata": {
    "collapsed": true
   },
   "outputs": [],
   "source": []
  }
 ],
 "metadata": {
  "kernelspec": {
   "display_name": "Python 2",
   "language": "python",
   "name": "python2"
  },
  "language_info": {
   "codemirror_mode": {
    "name": "ipython",
    "version": 2
   },
   "file_extension": ".py",
   "mimetype": "text/x-python",
   "name": "python",
   "nbconvert_exporter": "python",
   "pygments_lexer": "ipython2",
   "version": "2.7.8"
  }
 },
 "nbformat": 4,
 "nbformat_minor": 0
}
