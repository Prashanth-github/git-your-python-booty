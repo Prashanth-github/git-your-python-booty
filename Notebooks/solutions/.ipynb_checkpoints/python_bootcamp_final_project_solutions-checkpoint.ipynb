{
 "cells": [
  {
   "cell_type": "markdown",
   "metadata": {},
   "source": [
    "# Final Project\n",
    "\n",
    "Our goal here is to tie everything together and do a little analysis. :) \n",
    "\n",
    "We'll be using the file \"sample_data.csv\", and here's a short summary of the contents of the file. The column names are:\n",
    "    \n",
    "    id, first_name, country, age, gender\n",
    "\n",
    "The first few rows look like this:\n",
    "```\n",
    "    id,first_name,country,age,gender\n",
    "    1,Nicholas,Honduras,43,M\n",
    "    2,Mildred,Indonesia,31,F\n",
    "    3,Catherine,Malaysia,33,F\n",
    "```\n",
    "\n",
    "This data is totally bogus and was generated on http://www.mockaroo.com."
   ]
  },
  {
   "cell_type": "markdown",
   "metadata": {},
   "source": [
    "## 1. Import some useful libraries"
   ]
  },
  {
   "cell_type": "code",
   "execution_count": 1,
   "metadata": {
    "collapsed": true
   },
   "outputs": [],
   "source": [
    "%matplotlib inline\n",
    "import numpy as np\n",
    "import matplotlib.pyplot as plt"
   ]
  },
  {
   "cell_type": "markdown",
   "metadata": {},
   "source": [
    "## 2. Read in the file\n",
    "\n",
    "Read in the file, and print out the first 5 rows (excluding the header). \n",
    "\n",
    "Hint: use branching."
   ]
  },
  {
   "cell_type": "code",
   "execution_count": 3,
   "metadata": {
    "collapsed": false
   },
   "outputs": [
    {
     "name": "stdout",
     "output_type": "stream",
     "text": [
      "['1', 'Nicholas', 'Honduras', '43', 'M']\n",
      "['2', 'Mildred', 'Indonesia', '31', 'F']\n",
      "['3', 'Catherine', 'Malaysia', '33', 'F']\n",
      "['4', 'Juan', 'China', '21', 'M']\n",
      "['5', 'Christopher', 'Indonesia', '73', 'M']\n"
     ]
    }
   ],
   "source": [
    "import csv\n",
    "sample_filename = '../sample_data.csv'\n",
    "\n",
    "with open(sample_filename, 'rb') as csvfile:\n",
    "    reader = csv.reader(csvfile, delimiter=',')\n",
    "    headers = next(reader)\n",
    "    for row in reader:  # read lines sequentially\n",
    "        row_id, first_name, country, age, gender = row\n",
    "        if int(row_id) <= 5:      \n",
    "            print row\n",
    "        else:\n",
    "            break"
   ]
  },
  {
   "cell_type": "markdown",
   "metadata": {},
   "source": [
    "## 3. Compute the average age of the people in the dataset\n",
    "\n",
    "Hint: only consider the 'age' column, and look at its type (int? string?). Use numpy to calculate the mean."
   ]
  },
  {
   "cell_type": "code",
   "execution_count": null,
   "metadata": {
    "collapsed": false
   },
   "outputs": [],
   "source": [
    "# Note: we need to re-open (and close!) the file in order to get the ages out. \n",
    "# Ideally you'd open the file just once and grab everything you're interested in.\n",
    "\n",
    "ages = []\n",
    "with open(sample_filename, 'rb') as csvfile:\n",
    "    reader = csv.reader(csvfile, delimiter=',')\n",
    "    headers = next(reader)\n",
    "    for row in reader:  # read lines sequentially\n",
    "        row_id, first_name, country, age, gender = row\n",
    "        ages.append(int(age))\n",
    "\n",
    "average_age = np.mean(ages)\n",
    "print \"The average age is \" + str(average_age) + ' years'\n",
    "print \"The average age is %0.1f years\" % (average_age)"
   ]
  },
  {
   "cell_type": "markdown",
   "metadata": {},
   "source": [
    "## 4. Count the number of men and women in this data\n",
    "\n",
    "Hint: keep track of your counts."
   ]
  },
  {
   "cell_type": "code",
   "execution_count": null,
   "metadata": {
    "collapsed": false
   },
   "outputs": [],
   "source": [
    "women_counts = 0\n",
    "men_counts = 0\n",
    "with open(sample_filename, 'rb') as csvfile:\n",
    "    reader = csv.reader(csvfile, delimiter=',')\n",
    "    headers = next(reader)\n",
    "    for row in reader:  # read lines sequentially\n",
    "        row_id, first_name, country, age, gender = row\n",
    "        if gender == 'F':\n",
    "            women_counts += 1\n",
    "        if gender == 'M':\n",
    "            men_counts += 1\n",
    "\n",
    "print \"Number of women: \" + str(women_counts)\n",
    "print \"Number of men: \" + str(men_counts)"
   ]
  },
  {
   "cell_type": "markdown",
   "metadata": {},
   "source": [
    "## 5. Compute the average age for men and women (separately)\n",
    "\n",
    "Hint: consider the type of the age data."
   ]
  },
  {
   "cell_type": "code",
   "execution_count": null,
   "metadata": {
    "collapsed": false
   },
   "outputs": [],
   "source": [
    "women_ages = []\n",
    "men_ages = []\n",
    "with open(sample_filename, 'rb') as csvfile:\n",
    "    reader = csv.reader(csvfile, delimiter=',')\n",
    "    headers = next(reader)\n",
    "    for row in reader:  # read lines sequentially\n",
    "        row_id, first_name, country, age, gender = row\n",
    "        if gender == 'F':\n",
    "            women_ages.append(int(age))\n",
    "        if gender == 'M':\n",
    "            men_ages.append(int(age))\n",
    "            \n",
    "print \"The average age of women is %0.1f years\" % (np.mean(women_ages)) \n",
    "print \"The average age of men is %0.1f years\" % (np.mean(men_ages)) "
   ]
  },
  {
   "cell_type": "markdown",
   "metadata": {},
   "source": [
    "## 6. Plot the distribution of ages\n",
    "\n",
    "We haven't gone over plotting at all, so the code is shown here just so you can see how it's done.\n",
    "\n",
    "Note: Set the variable ```data_to_plot``` to whatever you named the list of ages in step 3."
   ]
  },
  {
   "cell_type": "code",
   "execution_count": null,
   "metadata": {
    "collapsed": false
   },
   "outputs": [],
   "source": [
    "num_bins = 50\n",
    "data_to_plot = ages\n",
    "n, bins, patches = plt.hist(data_to_plot, num_bins, facecolor='green', alpha = 0.5)\n",
    "plt.axis([10, 90, 0, 50])  # xmin, xmax, ymin, ymax\n",
    "plt.grid('on')\n",
    "plt.xlabel('Ages of people')\n",
    "plt.ylabel('Count')\n",
    "plt.title('Distribution of ages')\n",
    "plt.show()"
   ]
  },
  {
   "cell_type": "code",
   "execution_count": null,
   "metadata": {
    "collapsed": true
   },
   "outputs": [],
   "source": []
  }
 ],
 "metadata": {
  "kernelspec": {
   "display_name": "Python 2",
   "language": "python",
   "name": "python2"
  },
  "language_info": {
   "codemirror_mode": {
    "name": "ipython",
    "version": 2
   },
   "file_extension": ".py",
   "mimetype": "text/x-python",
   "name": "python",
   "nbconvert_exporter": "python",
   "pygments_lexer": "ipython2",
   "version": "2.7.9"
  }
 },
 "nbformat": 4,
 "nbformat_minor": 0
}
